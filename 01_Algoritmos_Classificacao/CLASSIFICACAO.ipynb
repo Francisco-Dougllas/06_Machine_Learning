{
 "cells": [
  {
   "cell_type": "markdown",
   "metadata": {
    "heading_collapsed": true,
    "id": "fQJ5CYV9Te0X"
   },
   "source": [
    "# **APRENDIZAGEM SUPERVISIONADA: CLASSIFICAÇÃO**"
   ]
  },
  {
   "cell_type": "markdown",
   "metadata": {
    "hidden": true,
    "id": "kXFCCsVHTtTP"
   },
   "source": [
    "Este projeto tem por objetivo desenvolver um algoritmo de Machine Learning para prever a tendência de uma pessoa desenvolver algum tipo de doença cardíaca com base em alguns fatores clínicos e laboratoriais. "
   ]
  },
  {
   "cell_type": "markdown",
   "metadata": {
    "hidden": true,
    "id": "5ZQ2nYhQUc3G"
   },
   "source": [
    "Os dados foram extraídos do site do Kaggle:\n",
    "\n",
    "https://www.kaggle.com/fedesoriano/heart-failure-prediction/version/1"
   ]
  },
  {
   "cell_type": "markdown",
   "metadata": {
    "heading_collapsed": true,
    "id": "gczjMn0YIb6s"
   },
   "source": [
    "# **PRÉ-PROCESSAMENTO**"
   ]
  },
  {
   "cell_type": "code",
   "execution_count": null,
   "metadata": {
    "hidden": true,
    "id": "nWvIcticlCs2"
   },
   "outputs": [],
   "source": [
    "import numpy as np\n",
    "import pandas as pd"
   ]
  },
  {
   "cell_type": "code",
   "execution_count": null,
   "metadata": {
    "hidden": true,
    "id": "LRIrwcC8kUhT"
   },
   "outputs": [],
   "source": [
    "df = pd.read_csv('heart_tratado.csv',\n",
    "                    sep=';', encoding='utf-8')"
   ]
  },
  {
   "cell_type": "code",
   "execution_count": null,
   "metadata": {
    "colab": {
     "base_uri": "https://localhost:8080/",
     "height": 206
    },
    "hidden": true,
    "id": "QtugliripIyp",
    "outputId": "5ffc3bb8-74fd-4406-e749-2c552095c948"
   },
   "outputs": [],
   "source": [
    "df.head()"
   ]
  },
  {
   "cell_type": "code",
   "execution_count": null,
   "metadata": {
    "colab": {
     "base_uri": "https://localhost:8080/"
    },
    "hidden": true,
    "id": "NSH5-od1gRAU",
    "outputId": "a2b6bee4-b9d5-4607-cb12-d268909ab812"
   },
   "outputs": [],
   "source": [
    "df.shape"
   ]
  },
  {
   "cell_type": "markdown",
   "metadata": {
    "hidden": true,
    "id": "a-DfpMtio-sq"
   },
   "source": [
    "## **Transformando as variáveis categóricas nominais em variáveis categóricas ordinais**"
   ]
  },
  {
   "cell_type": "code",
   "execution_count": null,
   "metadata": {
    "hidden": true,
    "id": "JntPfMmptEhg"
   },
   "outputs": [],
   "source": [
    "df2 = pd.DataFrame.copy(df)"
   ]
  },
  {
   "cell_type": "code",
   "execution_count": null,
   "metadata": {
    "hidden": true,
    "id": "KUxPnNEhrsjL"
   },
   "outputs": [],
   "source": [
    "df2['Sex'].replace({'M':0, 'F': 1}, inplace=True)\n",
    "df2['ChestPainType'].replace({'TA':0, 'ATA': 1, 'NAP':2, 'ASY': 3}, inplace=True)\n",
    "df2['RestingECG'].replace({'Normal':0, 'ST': 1, 'LVH':2}, inplace=True)\n",
    "df2['ExerciseAngina'].replace({'N':0, 'Y': 1}, inplace=True)\n",
    "df2['ST_Slope'].replace({'Up':0, 'Flat': 1, 'Down':2}, inplace=True)"
   ]
  },
  {
   "cell_type": "code",
   "execution_count": null,
   "metadata": {
    "colab": {
     "base_uri": "https://localhost:8080/",
     "height": 206
    },
    "hidden": true,
    "id": "1aTDlfUZpfJi",
    "outputId": "d6d320f0-c431-4902-88dd-985561dc2b8e"
   },
   "outputs": [],
   "source": [
    "df2.head()"
   ]
  },
  {
   "cell_type": "code",
   "execution_count": null,
   "metadata": {
    "colab": {
     "base_uri": "https://localhost:8080/"
    },
    "hidden": true,
    "id": "6kC-deH0giws",
    "outputId": "464ceed7-7689-485a-fa3b-abc4f2da7c89"
   },
   "outputs": [],
   "source": [
    "df2.dtypes"
   ]
  },
  {
   "cell_type": "code",
   "execution_count": null,
   "metadata": {
    "colab": {
     "base_uri": "https://localhost:8080/"
    },
    "hidden": true,
    "id": "e3oELnDctqsq",
    "outputId": "0b101d2f-0306-4e91-a8c0-49cd0228e218"
   },
   "outputs": [],
   "source": [
    "df2.shape"
   ]
  },
  {
   "cell_type": "markdown",
   "metadata": {
    "hidden": true,
    "id": "khuvnjo8ta5k"
   },
   "source": [
    "## **LEGENDA**"
   ]
  },
  {
   "cell_type": "markdown",
   "metadata": {
    "hidden": true,
    "id": "9Kz8O68wpsY3"
   },
   "source": [
    "Age = idade (anos)\n",
    "\n",
    "Sex = sexo (0=M; 1=F)\n",
    "\n",
    "Chest Pain Type = tipo de dor no peito (0=TA:angina típica; 1=ATA:angina atípica; 2=NAP:dor não anginosa; 3=ASY:assintomático)\n",
    "\n",
    "Resting BP = pressão sanguínea em repouso (mmHg)\n",
    "\n",
    "Cholesterol = colesterol sérico (mg/dl)\n",
    "\n",
    "Fasting BS = açúcar no sangue em jejum (mg/dl)\n",
    "          0: Fasting BS < 120 mg/dl (não diabético)\n",
    "          1: Fasting BS >= 120 mg/dl, (diabético)\n",
    "\n",
    "Resting ECG = eletrocardiograma em repouso (0=Normal; 1=ST:Anormalidade da onda ST-T; 2=LVH: Hipertrofia ventricular esquerda)\n",
    "\n",
    "Max HR = frequência cardíaca máxima\n",
    "\n",
    "Exercise Angina = Angina induzida por exercício (0=Não; 1=Sim)\n",
    "\n",
    "Old Peak = Depressão de ST induzida por exercício em relação ao repouso\n",
    "\n",
    "ST_Slope = Inclinação do segmento ST (0=UP; 1=Flat; 2=Down)\n",
    "\n",
    "Heart Disease = Doença cardíaca (0=Não possui doença cardíaca; 1=Possui doença cardíaca)\n",
    "\n"
   ]
  },
  {
   "cell_type": "markdown",
   "metadata": {
    "hidden": true,
    "id": "_NBxZCLzC8Bl"
   },
   "source": [
    "## **ATRIBUTOS PREVISORES E ALVO**"
   ]
  },
  {
   "cell_type": "code",
   "execution_count": null,
   "metadata": {
    "colab": {
     "base_uri": "https://localhost:8080/",
     "height": 206
    },
    "hidden": true,
    "id": "eLzWunR78ozP",
    "outputId": "f0649e6d-9f29-4515-ac31-9639e3826174"
   },
   "outputs": [],
   "source": [
    "df2.head()"
   ]
  },
  {
   "cell_type": "code",
   "execution_count": null,
   "metadata": {
    "hidden": true,
    "id": "alp9Gsx8z6f3"
   },
   "outputs": [],
   "source": [
    "previsores = df2.iloc[:, 0:11].values\n"
   ]
  },
  {
   "cell_type": "code",
   "execution_count": null,
   "metadata": {
    "colab": {
     "base_uri": "https://localhost:8080/"
    },
    "hidden": true,
    "id": "ZJjs6cWq-9Bn",
    "outputId": "a29604cb-833b-46a4-9433-ad4636286f51"
   },
   "outputs": [],
   "source": [
    "previsores"
   ]
  },
  {
   "cell_type": "code",
   "execution_count": null,
   "metadata": {
    "colab": {
     "base_uri": "https://localhost:8080/"
    },
    "hidden": true,
    "id": "KrtsyKXXAxTL",
    "outputId": "b1946a0a-36c7-433d-acc3-b507004f22ed"
   },
   "outputs": [],
   "source": [
    "previsores.shape"
   ]
  },
  {
   "cell_type": "code",
   "execution_count": null,
   "metadata": {
    "hidden": true,
    "id": "wdXWRjHMBAFo"
   },
   "outputs": [],
   "source": [
    "alvo = df2.iloc[:, 11].values"
   ]
  },
  {
   "cell_type": "code",
   "execution_count": null,
   "metadata": {
    "colab": {
     "base_uri": "https://localhost:8080/"
    },
    "hidden": true,
    "id": "wK163BWgBJg2",
    "outputId": "9d6e2452-7bdf-4090-b709-05c438af9ff0"
   },
   "outputs": [],
   "source": [
    "alvo"
   ]
  },
  {
   "cell_type": "code",
   "execution_count": null,
   "metadata": {
    "colab": {
     "base_uri": "https://localhost:8080/"
    },
    "hidden": true,
    "id": "RoSOdYF3BaOf",
    "outputId": "2757d3d1-bad8-4da9-fa13-79450f692234"
   },
   "outputs": [],
   "source": [
    "alvo.shape"
   ]
  },
  {
   "cell_type": "markdown",
   "metadata": {
    "hidden": true,
    "id": "Xw6d4rM0C9ZD"
   },
   "source": [
    "## **Análise das escalas dos atributos (Escalonamento)**"
   ]
  },
  {
   "cell_type": "code",
   "execution_count": null,
   "metadata": {
    "hidden": true,
    "id": "JzYfrEIxDHIL"
   },
   "outputs": [],
   "source": [
    "df2.describe()"
   ]
  },
  {
   "cell_type": "markdown",
   "metadata": {
    "hidden": true,
    "id": "XcSAxyqTD4dw"
   },
   "source": [
    "Padronização (utiliza a média e o desvio padrão como referência).\n",
    "\n",
    "Normalização (utiliza os valores máximo e mínimo como referência)."
   ]
  },
  {
   "cell_type": "code",
   "execution_count": null,
   "metadata": {
    "hidden": true,
    "id": "eMoVJG5kEJSG"
   },
   "outputs": [],
   "source": [
    "from sklearn.preprocessing import StandardScaler"
   ]
  },
  {
   "cell_type": "code",
   "execution_count": null,
   "metadata": {
    "hidden": true,
    "id": "0DpkgD9REQ7m"
   },
   "outputs": [],
   "source": [
    "previsores_esc = StandardScaler().fit_transform(previsores)"
   ]
  },
  {
   "cell_type": "code",
   "execution_count": null,
   "metadata": {
    "hidden": true,
    "id": "qmoQSiWMEr0k"
   },
   "outputs": [],
   "source": [
    "previsores_esc"
   ]
  },
  {
   "cell_type": "code",
   "execution_count": null,
   "metadata": {
    "hidden": true,
    "id": "aFabOc6kFLMu"
   },
   "outputs": [],
   "source": [
    "previsoresdf = pd.DataFrame(previsores_esc)\n",
    "previsoresdf"
   ]
  },
  {
   "cell_type": "code",
   "execution_count": null,
   "metadata": {
    "hidden": true,
    "id": "cXVXsyAtFWSo"
   },
   "outputs": [],
   "source": [
    "previsoresdf.describe()"
   ]
  },
  {
   "cell_type": "markdown",
   "metadata": {
    "hidden": true,
    "id": "HU3ZNfuI0BaL"
   },
   "source": [
    "## **Codificação de variáveis categóricas**"
   ]
  },
  {
   "cell_type": "markdown",
   "metadata": {
    "hidden": true,
    "id": "lPObOxwx0Qy5"
   },
   "source": [
    "### **LabelEncoder: transformação de variáveis categóricas em numéricas**\n"
   ]
  },
  {
   "cell_type": "code",
   "execution_count": null,
   "metadata": {
    "hidden": true,
    "id": "oLt4fZ620l-5"
   },
   "outputs": [],
   "source": [
    "from sklearn.preprocessing import LabelEncoder"
   ]
  },
  {
   "cell_type": "code",
   "execution_count": null,
   "metadata": {
    "colab": {
     "base_uri": "https://localhost:8080/",
     "height": 206
    },
    "hidden": true,
    "id": "oJc1Q36h1Ls_",
    "outputId": "a60d6a28-3f40-4cc9-8ccd-701190bd010e"
   },
   "outputs": [],
   "source": [
    "df.head()"
   ]
  },
  {
   "cell_type": "code",
   "execution_count": null,
   "metadata": {
    "colab": {
     "base_uri": "https://localhost:8080/"
    },
    "hidden": true,
    "id": "0VFq4NJ_181-",
    "outputId": "23dd444b-76dc-4bfb-cb52-4128dcaf1401"
   },
   "outputs": [],
   "source": [
    "previsores2 = df.iloc[:, 0:11].values\n",
    "previsores2"
   ]
  },
  {
   "cell_type": "code",
   "execution_count": null,
   "metadata": {
    "hidden": true,
    "id": "36oIQ8I10nin"
   },
   "outputs": [],
   "source": [
    "previsores2[:,1] = LabelEncoder().fit_transform(previsores2[:,1])"
   ]
  },
  {
   "cell_type": "code",
   "execution_count": null,
   "metadata": {
    "colab": {
     "base_uri": "https://localhost:8080/"
    },
    "hidden": true,
    "id": "IZQuLVsb1kMW",
    "outputId": "213b9e0a-ba5b-4c4b-8406-deb2e4974152"
   },
   "outputs": [],
   "source": [
    "previsores2"
   ]
  },
  {
   "cell_type": "code",
   "execution_count": null,
   "metadata": {
    "hidden": true,
    "id": "VAV6Jrmg00_B"
   },
   "outputs": [],
   "source": [
    "previsores2[:,2] = LabelEncoder().fit_transform(previsores2[:,2])\n",
    "previsores2[:,6] = LabelEncoder().fit_transform(previsores2[:,6])\n",
    "previsores2[:,8] = LabelEncoder().fit_transform(previsores2[:,8])\n",
    "previsores2[:,10] = LabelEncoder().fit_transform(previsores2[:,10])"
   ]
  },
  {
   "cell_type": "code",
   "execution_count": null,
   "metadata": {
    "colab": {
     "base_uri": "https://localhost:8080/"
    },
    "hidden": true,
    "id": "6OYCPPGa3EE6",
    "outputId": "c00f06c1-ed47-4af5-ed43-42dd381700cb"
   },
   "outputs": [],
   "source": [
    "previsores2"
   ]
  },
  {
   "cell_type": "code",
   "execution_count": null,
   "metadata": {
    "colab": {
     "base_uri": "https://localhost:8080/"
    },
    "hidden": true,
    "id": "SV6SHdiD3i_Z",
    "outputId": "03ce3ce3-a508-41ca-ab56-b6d20023665b"
   },
   "outputs": [],
   "source": [
    "previsores2.shape"
   ]
  },
  {
   "cell_type": "markdown",
   "metadata": {
    "hidden": true,
    "id": "PIqEAMoH52Og"
   },
   "source": [
    "### **OneHotEncoder: Criação de variáveis Dummy (fictícia).**"
   ]
  },
  {
   "cell_type": "markdown",
   "metadata": {
    "hidden": true,
    "id": "Ic1BCbFvGTNL"
   },
   "source": [
    "Cuidado com a multicolinearidade (variáveis altamente correlacionadas entre si)."
   ]
  },
  {
   "cell_type": "markdown",
   "metadata": {
    "hidden": true,
    "id": "ruBvkbyn74ly"
   },
   "source": [
    "![image.png](data:image/png;base64,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)"
   ]
  },
  {
   "cell_type": "markdown",
   "metadata": {
    "hidden": true,
    "id": "ZszZwZIBPrQR"
   },
   "source": [
    "A   B   C   D   \n",
    "1   0   0   0   \n",
    "0   1   0   0   \n",
    "0   0   1   0   \n",
    "0   0   0   1\n"
   ]
  },
  {
   "cell_type": "code",
   "execution_count": null,
   "metadata": {
    "hidden": true,
    "id": "YeSR7cQC8uCQ"
   },
   "outputs": [],
   "source": [
    "from sklearn.preprocessing import OneHotEncoder\n",
    "from sklearn.compose import ColumnTransformer"
   ]
  },
  {
   "cell_type": "code",
   "execution_count": null,
   "metadata": {
    "hidden": true,
    "id": "qx2UeR9S2Whp"
   },
   "outputs": [],
   "source": [
    "ColumnTransformer?"
   ]
  },
  {
   "cell_type": "markdown",
   "metadata": {
    "hidden": true,
    "id": "ZT_BjSzytpVX"
   },
   "source": [
    "Parâmetros ColumnTransformer\n",
    "- name: nome dado a transformação.\n",
    "- transformer: tipo de estimador (OneHotEncoder).\n",
    "- columns: colunas que serão transformadas.\n",
    "- remainder: o que acontecerá com o restante das colunas não relacionadas: \n",
    "1) drop = exclui as outras colunas.\n",
    "2) passthrough = mantém as outras colunas. drop é default.  \n",
    "- sparse_threshold: parâmetro de classificação de matrizes esparsas. default é 0.3\n",
    "- n_jobs: número de trabalhos a serem executados em paralelo. default é nenhum\n",
    "- transformer_weights: definição de pesos aos transformadores.\n",
    "-verbose: default é False. se for True a execução é apresentada na tela."
   ]
  },
  {
   "cell_type": "code",
   "execution_count": null,
   "metadata": {
    "hidden": true,
    "id": "rXFOyMmd9JEB"
   },
   "outputs": [],
   "source": [
    "previsores3 = ColumnTransformer(transformers=[('OneHot', OneHotEncoder(), [1,2,6,8,10])],\n",
    "                                remainder='passthrough').fit_transform(previsores2)"
   ]
  },
  {
   "cell_type": "code",
   "execution_count": null,
   "metadata": {
    "colab": {
     "base_uri": "https://localhost:8080/"
    },
    "hidden": true,
    "id": "F_H3hiDD_pfB",
    "outputId": "34cab926-22f5-4f9d-b4ee-65788417fae8"
   },
   "outputs": [],
   "source": [
    "previsores3"
   ]
  },
  {
   "cell_type": "code",
   "execution_count": null,
   "metadata": {
    "hidden": true,
    "id": "eZ-nG4XEBMXU"
   },
   "outputs": [],
   "source": [
    "previsores3.shape"
   ]
  },
  {
   "cell_type": "code",
   "execution_count": null,
   "metadata": {
    "hidden": true,
    "id": "1iTTX6b0C_0-"
   },
   "outputs": [],
   "source": [
    "previsores3df = pd.DataFrame(previsores3)\n",
    "previsores3df.head()"
   ]
  },
  {
   "cell_type": "code",
   "execution_count": null,
   "metadata": {
    "hidden": true,
    "id": "KTfczx7EDvwc"
   },
   "outputs": [],
   "source": [
    "df.head()"
   ]
  },
  {
   "cell_type": "markdown",
   "metadata": {
    "hidden": true,
    "id": "YWlyb9T-Fk1I"
   },
   "source": [
    "## **Escalonamento**"
   ]
  },
  {
   "cell_type": "code",
   "execution_count": null,
   "metadata": {
    "hidden": true,
    "id": "x4jzommSFk1L"
   },
   "outputs": [],
   "source": [
    "from sklearn.preprocessing import StandardScaler"
   ]
  },
  {
   "cell_type": "code",
   "execution_count": null,
   "metadata": {
    "hidden": true,
    "id": "nvLu4mtDFk1L"
   },
   "outputs": [],
   "source": [
    "previsores3_esc = StandardScaler().fit_transform(previsores3)"
   ]
  },
  {
   "cell_type": "code",
   "execution_count": null,
   "metadata": {
    "hidden": true,
    "id": "eFTA8spkFk1M"
   },
   "outputs": [],
   "source": [
    "previsores3_esc"
   ]
  },
  {
   "cell_type": "code",
   "execution_count": null,
   "metadata": {
    "hidden": true,
    "id": "w6JQStnqFk1M"
   },
   "outputs": [],
   "source": [
    "previsores3df = pd.DataFrame(previsores3_esc)\n",
    "previsores3df"
   ]
  },
  {
   "cell_type": "code",
   "execution_count": null,
   "metadata": {
    "hidden": true,
    "id": "e-dcMRS-Fk1N"
   },
   "outputs": [],
   "source": [
    "previsores3df.describe()"
   ]
  },
  {
   "cell_type": "markdown",
   "metadata": {
    "hidden": true,
    "id": "kW700Sj9Fk1O"
   },
   "source": [
    "## **RESUMO PRÉ-PROCESSAMENTO**"
   ]
  },
  {
   "cell_type": "markdown",
   "metadata": {
    "hidden": true,
    "id": "k-L1kFumG1pO"
   },
   "source": [
    "alvo = variável que se pretende atingir (tem ou não doença cardíaca).\n",
    "\n",
    "previsores = conjunto de variáveis previsoras com as variáveis categóricas transformadas em numéricas manualmente, sem escalonar.\n",
    "\n",
    "previsores_esc = conjunto de variáveis previsoras com as variáveis categóricas transformadas em numéricas, escalonada.\n",
    "\n",
    "previsores2 = conjunto de variáveis previsoras com as variáveis categóricas transformadas em numéricas pelo labelencoder.\n",
    "\n",
    "previsores3 = conjunto de variáveis previsoras transformadas pelo labelencoder e onehotencoder, sem escalonar.\n",
    "\n",
    "previsores3_esc = conjunto de variáveis previsoras transformadas pelo labelencoder e onehotencoder escalonada."
   ]
  },
  {
   "cell_type": "markdown",
   "metadata": {
    "hidden": true,
    "id": "S3Kl3wySKBEw"
   },
   "source": [
    "## **Redução de dimensionalidade**"
   ]
  },
  {
   "cell_type": "markdown",
   "metadata": {
    "hidden": true,
    "id": "w5fLfwjg8xrw"
   },
   "source": [
    "Objetivo é selecionar os melhores componentes (atributos) para treinamento do algoritmo, através da análise das correlações entre as variáveis."
   ]
  },
  {
   "cell_type": "markdown",
   "metadata": {
    "hidden": true,
    "id": "6OurC4GyUoak"
   },
   "source": [
    "### Análise dos Componentes Principais (PCA)"
   ]
  },
  {
   "cell_type": "markdown",
   "metadata": {
    "hidden": true,
    "id": "iB5XY2Tf9AH5"
   },
   "source": [
    "**Seleção de características:** seleciona os melhores atributos e utiliza sem transformações.\n",
    "\n",
    "**Extração de Características:** Encontra os relacionamentos dos melhores atributos e cria novos atributos.\n",
    "\n",
    "É um algoritmo de aprendizagem não supervisionada.\n",
    "\n",
    "Aplica-se em dados linearmente separáveis."
   ]
  },
  {
   "cell_type": "code",
   "execution_count": null,
   "metadata": {
    "hidden": true,
    "id": "j2adDUMyX3d2"
   },
   "outputs": [],
   "source": [
    "from sklearn.decomposition import PCA"
   ]
  },
  {
   "cell_type": "code",
   "execution_count": null,
   "metadata": {
    "hidden": true,
    "id": "ZmpO8urpX8kz"
   },
   "outputs": [],
   "source": [
    "pca = PCA(n_components=3)"
   ]
  },
  {
   "cell_type": "code",
   "execution_count": null,
   "metadata": {
    "hidden": true,
    "id": "zVHnZ8rYYOeL"
   },
   "outputs": [],
   "source": [
    "previsores_pca = pca.fit_transform(previsores2)"
   ]
  },
  {
   "cell_type": "code",
   "execution_count": null,
   "metadata": {
    "hidden": true,
    "id": "5Ouz2wdFYkJh"
   },
   "outputs": [],
   "source": [
    "previsores_pca.shape"
   ]
  },
  {
   "cell_type": "code",
   "execution_count": null,
   "metadata": {
    "hidden": true,
    "id": "i06cyMBkYubR"
   },
   "outputs": [],
   "source": [
    "# Componentes principais\n",
    "previsores_pca"
   ]
  },
  {
   "cell_type": "code",
   "execution_count": null,
   "metadata": {
    "hidden": true,
    "id": "hdBAi-piY28x"
   },
   "outputs": [],
   "source": [
    "# razão das variáveis explicativas\n",
    "pca.explained_variance_ratio_"
   ]
  },
  {
   "cell_type": "code",
   "execution_count": null,
   "metadata": {
    "hidden": true,
    "id": "lBxPFP0VZR1I"
   },
   "outputs": [],
   "source": [
    "# Soma das variáveis explicativas\n",
    "pca.explained_variance_ratio_.sum()"
   ]
  },
  {
   "cell_type": "markdown",
   "metadata": {
    "hidden": true,
    "id": "2UhdSgBmUtJ6"
   },
   "source": [
    "### Kernel PCA"
   ]
  },
  {
   "cell_type": "markdown",
   "metadata": {
    "hidden": true,
    "id": "1DM-bEoM_JzC"
   },
   "source": [
    "É um algoritmo de aprendizagem não supervisionada.\n",
    "\n",
    "Aplica-se também em dados linearmente não separáveis."
   ]
  },
  {
   "cell_type": "code",
   "execution_count": null,
   "metadata": {
    "hidden": true,
    "id": "z4ATtNXscFq2"
   },
   "outputs": [],
   "source": [
    "from sklearn.decomposition import KernelPCA"
   ]
  },
  {
   "cell_type": "code",
   "execution_count": null,
   "metadata": {
    "hidden": true,
    "id": "8kB6ZCIvcNb1"
   },
   "outputs": [],
   "source": [
    "kpca = KernelPCA(n_components=4, kernel='rbf')"
   ]
  },
  {
   "cell_type": "code",
   "execution_count": null,
   "metadata": {
    "hidden": true,
    "id": "bRAZ06bXPspG"
   },
   "outputs": [],
   "source": [
    "previsores_kernel = kpca.fit_transform(previsores2)"
   ]
  },
  {
   "cell_type": "code",
   "execution_count": null,
   "metadata": {
    "hidden": true,
    "id": "tswhvRYtdMvr"
   },
   "outputs": [],
   "source": [
    "previsores_kernel.shape"
   ]
  },
  {
   "cell_type": "code",
   "execution_count": null,
   "metadata": {
    "hidden": true,
    "id": "age1iPvsdZg-"
   },
   "outputs": [],
   "source": [
    "previsores_kernel"
   ]
  },
  {
   "cell_type": "markdown",
   "metadata": {
    "hidden": true,
    "id": "u3jQ6H1S-HtG"
   },
   "source": [
    "### **Análise do Discriminante Linear (LDA: Linear Discriminant Analysis)**"
   ]
  },
  {
   "cell_type": "markdown",
   "metadata": {
    "hidden": true,
    "id": "NqO1DSAP-7tT"
   },
   "source": [
    "Algoritmo de aprendizagem supervisionada, pois utiliza a classe como referência para seleção.\n",
    "\n",
    "Aplicado em situações com muitos atributos previsores e também com o atributo alvo com muitas classes."
   ]
  },
  {
   "cell_type": "code",
   "execution_count": null,
   "metadata": {
    "hidden": true,
    "id": "3RRYZemLenmT"
   },
   "outputs": [],
   "source": [
    "from sklearn.discriminant_analysis import LinearDiscriminantAnalysis\n",
    "lda = LinearDiscriminantAnalysis(n_components = 1)"
   ]
  },
  {
   "cell_type": "code",
   "execution_count": null,
   "metadata": {
    "hidden": true,
    "id": "onA-GJZafCLU"
   },
   "outputs": [],
   "source": [
    "previsores_lda = lda.fit_transform(previsores2, alvo)"
   ]
  },
  {
   "cell_type": "code",
   "execution_count": null,
   "metadata": {
    "hidden": true,
    "id": "Y2qtrFLrBVzr"
   },
   "outputs": [],
   "source": [
    "previsores_lda"
   ]
  },
  {
   "cell_type": "code",
   "execution_count": null,
   "metadata": {
    "hidden": true,
    "id": "g5l0JnpGBfn7"
   },
   "outputs": [],
   "source": [
    "lda.explained_variance_ratio_"
   ]
  },
  {
   "cell_type": "markdown",
   "metadata": {
    "hidden": true,
    "id": "Caf7XRsO4BYE"
   },
   "source": [
    "## **Salvando as variáveis (atributos)**"
   ]
  },
  {
   "cell_type": "code",
   "execution_count": null,
   "metadata": {
    "hidden": true,
    "id": "Vn6R_DKHhG0u"
   },
   "outputs": [],
   "source": [
    "import pickle"
   ]
  },
  {
   "cell_type": "code",
   "execution_count": null,
   "metadata": {
    "hidden": true,
    "id": "DuPE27wl-vBw"
   },
   "outputs": [],
   "source": [
    "# Criando arquivo\n",
    "arq1 = open('heart.pkl', 'wb')"
   ]
  },
  {
   "cell_type": "code",
   "execution_count": null,
   "metadata": {
    "hidden": true,
    "id": "jTvKGTxnHien"
   },
   "outputs": [],
   "source": [
    "# Salvando a variável no arquivo\n",
    "pickle.dump(alvo, arq1)"
   ]
  },
  {
   "cell_type": "code",
   "execution_count": null,
   "metadata": {
    "hidden": true,
    "id": "sle5bDZZIJjt"
   },
   "outputs": [],
   "source": [
    "# Fechando arquivo\n",
    "arq1.close()"
   ]
  },
  {
   "cell_type": "code",
   "execution_count": null,
   "metadata": {
    "hidden": true,
    "id": "5-HNb-3IISWs"
   },
   "outputs": [],
   "source": [
    "# Lendo arquivo\n",
    "arq1 = open('heart.pkl', 'rb')"
   ]
  },
  {
   "cell_type": "code",
   "execution_count": null,
   "metadata": {
    "hidden": true,
    "id": "poLMbNNvIjlz"
   },
   "outputs": [],
   "source": [
    "# Chamando a variável\n",
    "alvo = pickle.load(arq1)"
   ]
  },
  {
   "cell_type": "code",
   "execution_count": null,
   "metadata": {
    "hidden": true,
    "id": "MZHEQpHeKzK_"
   },
   "outputs": [],
   "source": [
    "alvo"
   ]
  },
  {
   "cell_type": "code",
   "execution_count": null,
   "metadata": {
    "hidden": true,
    "id": "hb4PNxyzQgC1"
   },
   "outputs": [],
   "source": [
    "# Criando arquivos e Salvando as variáveis\n",
    "arq2 = open('heart2.pkl', 'wb')\n",
    "pickle.dump(previsores, arq2)\n",
    "arq3 = open('heart3.pkl', 'wb')\n",
    "pickle.dump(previsores_esc, arq3)\n",
    "arq4 = open('heart4.pkl', 'wb')\n",
    "pickle.dump(previsores2, arq4)\n",
    "arq5 = open('heart5.pkl', 'wb')\n",
    "pickle.dump(previsores3, arq5)\n",
    "arq6 = open('heart6.pkl', 'wb')\n",
    "pickle.dump(previsores3_esc, arq6)"
   ]
  },
  {
   "cell_type": "code",
   "execution_count": null,
   "metadata": {
    "hidden": true,
    "id": "i7noq9dAEwog"
   },
   "outputs": [],
   "source": [
    "arq2 = open('heart2.pkl', 'rb')"
   ]
  },
  {
   "cell_type": "code",
   "execution_count": null,
   "metadata": {
    "hidden": true,
    "id": "sNSCfClWE0_G"
   },
   "outputs": [],
   "source": [
    "previsores = pickle.load(arq2)"
   ]
  },
  {
   "cell_type": "code",
   "execution_count": null,
   "metadata": {
    "hidden": true,
    "id": "3rE0rqRXRxR3"
   },
   "outputs": [],
   "source": [
    "previsores"
   ]
  },
  {
   "cell_type": "code",
   "execution_count": null,
   "metadata": {
    "hidden": true
   },
   "outputs": [],
   "source": []
  },
  {
   "cell_type": "code",
   "execution_count": null,
   "id": "6cb70ffb",
   "metadata": {
    "hidden": true
   },
   "outputs": [],
   "source": [
    "arq1 = open('heart.pkl',  'rb')\n",
    "alvo =  pickle.load(arq1)"
   ]
  },
  {
   "cell_type": "code",
   "execution_count": null,
   "id": "55424857",
   "metadata": {
    "hidden": true
   },
   "outputs": [],
   "source": [
    "arq2 = open('heart2.pkl', 'rb')\n",
    "previsores =  pickle.load(arq2)"
   ]
  },
  {
   "cell_type": "code",
   "execution_count": null,
   "id": "80f0edd5",
   "metadata": {
    "hidden": true
   },
   "outputs": [],
   "source": [
    "arq3 = open('heart3.pkl', 'rb')\n",
    "previsores_esc   =  pickle.load(arq3)"
   ]
  },
  {
   "cell_type": "code",
   "execution_count": null,
   "id": "82a7b196",
   "metadata": {
    "hidden": true
   },
   "outputs": [],
   "source": [
    "arq4 = open('heart4.pkl', 'rb')\n",
    "previsores2      =  pickle.load(arq4)"
   ]
  },
  {
   "cell_type": "code",
   "execution_count": null,
   "id": "2ec46f93",
   "metadata": {
    "hidden": true
   },
   "outputs": [],
   "source": [
    "arq5 = open('heart5.pkl', 'rb')\n",
    "previsores3      =  pickle.load(arq5)"
   ]
  },
  {
   "cell_type": "code",
   "execution_count": null,
   "id": "cf623a2c",
   "metadata": {
    "hidden": true
   },
   "outputs": [],
   "source": [
    "arq6 = open('heart6.pkl', 'rb')\n",
    "previsores3_esc =  pickle.load(arq6)"
   ]
  },
  {
   "cell_type": "code",
   "execution_count": null,
   "metadata": {
    "hidden": true
   },
   "outputs": [],
   "source": [
    "arq6 = open('heart6.pkl', 'rb')\n",
    "previsores3_esc =  pickle.load(arq6)"
   ]
  },
  {
   "cell_type": "code",
   "execution_count": null,
   "metadata": {
    "hidden": true
   },
   "outputs": [],
   "source": []
  },
  {
   "cell_type": "code",
   "execution_count": null,
   "metadata": {
    "hidden": true
   },
   "outputs": [],
   "source": []
  },
  {
   "cell_type": "code",
   "execution_count": null,
   "metadata": {
    "hidden": true
   },
   "outputs": [],
   "source": []
  },
  {
   "cell_type": "code",
   "execution_count": null,
   "metadata": {
    "hidden": true
   },
   "outputs": [],
   "source": []
  },
  {
   "cell_type": "code",
   "execution_count": null,
   "metadata": {
    "hidden": true
   },
   "outputs": [],
   "source": []
  },
  {
   "cell_type": "markdown",
   "metadata": {
    "hidden": true,
    "id": "w-W634n0I_Db"
   },
   "source": [
    "## **BASE DE TREINO E TESTE**"
   ]
  },
  {
   "cell_type": "code",
   "execution_count": null,
   "metadata": {
    "hidden": true,
    "id": "UmjBvEubFG72"
   },
   "outputs": [],
   "source": [
    "from sklearn.model_selection import train_test_split"
   ]
  },
  {
   "cell_type": "markdown",
   "metadata": {
    "hidden": true,
    "id": "cB1szLDSyfzA"
   },
   "source": [
    "Parâmetros train_test_split:   \n",
    "- arrays: nomes dos atributos previsores e alvo.   \n",
    "- test_size: tamanho em porcentagem dos dados de teste. default é none.   \n",
    "- train_size: tamanho em porcentagem dos dados de treinamento.default é none.  \n",
    "- random_state: nomeação de um estado aleatório.   \n",
    "- shuffle: embaralhamento dos dados aleatórios. Associado com o random_state ocorre o mesmo embaralhamento sempre. Default é True.  \n",
    "- stratify: Possibilidade de dividir os dados de forma estratificada. Default é None (nesse caso é mantido a proporção, isto é, se tem 30% de zeros e 70% de 1 no dataframe, na separação em treinamento e teste se manterá essa proporção)."
   ]
  },
  {
   "cell_type": "code",
   "execution_count": null,
   "metadata": {
    "hidden": true,
    "id": "JFn1OrYtF0m9"
   },
   "outputs": [],
   "source": [
    "x_treino, x_teste, y_treino, y_teste = train_test_split(previsores, alvo, test_size = 0.3, random_state = 0)"
   ]
  },
  {
   "cell_type": "code",
   "execution_count": null,
   "metadata": {
    "hidden": true,
    "id": "Xza9uNMgJFD8"
   },
   "outputs": [],
   "source": [
    "x_treino.shape"
   ]
  },
  {
   "cell_type": "code",
   "execution_count": null,
   "metadata": {
    "hidden": true,
    "id": "gM74hUlEJNOZ"
   },
   "outputs": [],
   "source": [
    "x_teste.shape"
   ]
  },
  {
   "cell_type": "code",
   "execution_count": null,
   "metadata": {
    "hidden": true,
    "id": "lGzLxpISJeWG"
   },
   "outputs": [],
   "source": [
    "y_treino.shape"
   ]
  },
  {
   "cell_type": "code",
   "execution_count": null,
   "metadata": {
    "hidden": true,
    "id": "ZUojufPlJnhy"
   },
   "outputs": [],
   "source": [
    "y_teste.shape"
   ]
  },
  {
   "cell_type": "markdown",
   "metadata": {
    "heading_collapsed": true,
    "id": "f6u542_aEj6B"
   },
   "source": [
    "# **NAIVE BAYES**"
   ]
  },
  {
   "cell_type": "markdown",
   "metadata": {
    "hidden": true,
    "id": "2tnCKM7kcfQl"
   },
   "source": [
    "https://scikit-learn.org/stable/modules/naive_bayes.html"
   ]
  },
  {
   "cell_type": "markdown",
   "metadata": {
    "hidden": true,
    "id": "-GK8qvcgzWGQ"
   },
   "source": [
    "Treinamento do algoritmo"
   ]
  },
  {
   "cell_type": "code",
   "execution_count": null,
   "metadata": {
    "hidden": true,
    "id": "YhAnMs4TJRoa"
   },
   "outputs": [],
   "source": [
    "from sklearn.naive_bayes import GaussianNB"
   ]
  },
  {
   "cell_type": "code",
   "execution_count": null,
   "metadata": {
    "hidden": true,
    "id": "ak0_M56CJheq"
   },
   "outputs": [],
   "source": [
    "naive = GaussianNB()\n",
    "naive.fit(x_treino, y_treino)"
   ]
  },
  {
   "cell_type": "markdown",
   "metadata": {
    "hidden": true,
    "id": "neBugc1HzbL_"
   },
   "source": [
    "Avaliação do algoritmo"
   ]
  },
  {
   "cell_type": "code",
   "execution_count": null,
   "metadata": {
    "hidden": true,
    "id": "ac4kuVBsJ85p"
   },
   "outputs": [],
   "source": [
    "previsoes_naive = naive.predict(x_teste)\n",
    "previsoes_naive"
   ]
  },
  {
   "cell_type": "code",
   "execution_count": null,
   "metadata": {
    "hidden": true,
    "id": "aBPvzhRUKLoZ"
   },
   "outputs": [],
   "source": [
    "y_teste"
   ]
  },
  {
   "cell_type": "code",
   "execution_count": null,
   "metadata": {
    "hidden": true,
    "id": "OEXPFIiVKUl_"
   },
   "outputs": [],
   "source": [
    "from sklearn.metrics import accuracy_score, confusion_matrix, classification_report"
   ]
  },
  {
   "cell_type": "code",
   "execution_count": null,
   "metadata": {
    "hidden": true,
    "id": "hojdvgEgKYjg"
   },
   "outputs": [],
   "source": [
    "accuracy_score(y_teste, previsoes_naive)"
   ]
  },
  {
   "cell_type": "code",
   "execution_count": null,
   "metadata": {
    "hidden": true,
    "id": "R8rjCRA7CwLV"
   },
   "outputs": [],
   "source": [
    "print(\"Acurácia: %.2f%%\" % (accuracy_score(y_teste, previsoes_naive) * 100.0))"
   ]
  },
  {
   "cell_type": "code",
   "execution_count": null,
   "metadata": {
    "hidden": true,
    "id": "N_xxZiTXKeG3"
   },
   "outputs": [],
   "source": [
    "confusion_matrix(y_teste, previsoes_naive)"
   ]
  },
  {
   "cell_type": "code",
   "execution_count": null,
   "metadata": {
    "hidden": true,
    "id": "CZMZ_zPNKzqW"
   },
   "outputs": [],
   "source": [
    "print(classification_report(y_teste, previsoes_naive))"
   ]
  },
  {
   "cell_type": "markdown",
   "metadata": {
    "hidden": true,
    "id": "Gnte-P_e0536"
   },
   "source": [
    "**Análise dados de treino**"
   ]
  },
  {
   "cell_type": "code",
   "execution_count": null,
   "metadata": {
    "hidden": true,
    "id": "_t9CZH8qz9w-"
   },
   "outputs": [],
   "source": [
    "previsoes_treino = naive.predict(x_treino)\n",
    "previsoes_treino"
   ]
  },
  {
   "cell_type": "code",
   "execution_count": null,
   "metadata": {
    "hidden": true,
    "id": "ixfPbrJB0iEE"
   },
   "outputs": [],
   "source": [
    "accuracy_score(y_treino, previsoes_treino)"
   ]
  },
  {
   "cell_type": "code",
   "execution_count": null,
   "metadata": {
    "hidden": true,
    "id": "nyTX_2Te0suq"
   },
   "outputs": [],
   "source": [
    "confusion_matrix(y_treino, previsoes_treino)"
   ]
  },
  {
   "cell_type": "markdown",
   "metadata": {
    "hidden": true,
    "id": "rNsT6wAn_e1l"
   },
   "source": [
    "### **Validação Cruzada**"
   ]
  },
  {
   "cell_type": "code",
   "execution_count": null,
   "metadata": {
    "hidden": true,
    "id": "lvBuy5bm_qok"
   },
   "outputs": [],
   "source": [
    "from sklearn.model_selection import KFold\n",
    "from sklearn.model_selection import cross_val_score"
   ]
  },
  {
   "cell_type": "code",
   "execution_count": null,
   "metadata": {
    "hidden": true,
    "id": "SS_dyx4x_260"
   },
   "outputs": [],
   "source": [
    "# Separando os dados em folds\n",
    "kfold = KFold(n_splits = 30, shuffle=True, random_state = 5)"
   ]
  },
  {
   "cell_type": "code",
   "execution_count": null,
   "metadata": {
    "hidden": true,
    "id": "K0aqT7kPAf1L"
   },
   "outputs": [],
   "source": [
    "# Criando o modelo\n",
    "modelo = GaussianNB()\n",
    "resultado = cross_val_score(modelo, previsores3_esc, alvo, cv = kfold)\n",
    "resultado"
   ]
  },
  {
   "cell_type": "code",
   "execution_count": null,
   "metadata": {
    "hidden": true,
    "id": "VmmFUeXird9B"
   },
   "outputs": [],
   "source": [
    "# Usamos a média e o desvio padrão\n",
    "print(\"Acurácia Média: %.2f%%\" % (resultado.mean() * 100.0))"
   ]
  },
  {
   "cell_type": "markdown",
   "metadata": {
    "hidden": true,
    "id": "tZ03xoOQNkQP"
   },
   "source": [
    "Naive Bayes = 84,78% (treino e teste) - 234 acertos e 85,17% (validação cruzada) - previsores3_esc\n",
    "\n",
    "\n",
    "\n"
   ]
  },
  {
   "cell_type": "markdown",
   "metadata": {
    "heading_collapsed": true,
    "id": "n1ky9LQipNn0"
   },
   "source": [
    "# **MÁQUINAS DE VETORES DE SUPORTE (SVM)**"
   ]
  },
  {
   "cell_type": "markdown",
   "metadata": {
    "hidden": true,
    "id": "5p55FhL3b52u"
   },
   "source": [
    "https://scikit-learn.org/stable/modules/generated/sklearn.svm.SVC.html"
   ]
  },
  {
   "cell_type": "code",
   "execution_count": null,
   "metadata": {
    "hidden": true,
    "id": "oVy0EpUfpquK"
   },
   "outputs": [],
   "source": [
    "from sklearn.svm import SVC"
   ]
  },
  {
   "cell_type": "code",
   "execution_count": null,
   "metadata": {
    "hidden": true,
    "id": "P7xKKTCabAab"
   },
   "outputs": [],
   "source": [
    "svm = SVC(kernel='rbf', random_state=1, C = 2) \n",
    "svm.fit(x_treino, y_treino)"
   ]
  },
  {
   "cell_type": "code",
   "execution_count": null,
   "metadata": {
    "hidden": true,
    "id": "VjKeaHKrbicN"
   },
   "outputs": [],
   "source": [
    "previsoes_svm = svm.predict(x_teste)\n",
    "previsoes_svm"
   ]
  },
  {
   "cell_type": "code",
   "execution_count": null,
   "metadata": {
    "hidden": true,
    "id": "ulL7w207qcwQ"
   },
   "outputs": [],
   "source": [
    "y_teste"
   ]
  },
  {
   "cell_type": "code",
   "execution_count": null,
   "metadata": {
    "hidden": true,
    "id": "iWdYWQQBvnVQ"
   },
   "outputs": [],
   "source": [
    "from sklearn.metrics import accuracy_score, confusion_matrix, classification_report"
   ]
  },
  {
   "cell_type": "code",
   "execution_count": null,
   "metadata": {
    "hidden": true,
    "id": "kRZ4VwD-qjW4"
   },
   "outputs": [],
   "source": [
    "print(\"Acurácia: %.2f%%\" % (accuracy_score(y_teste, previsoes_svm) * 100.0))"
   ]
  },
  {
   "cell_type": "code",
   "execution_count": null,
   "metadata": {
    "hidden": true,
    "id": "VYeZMXUtqjW5"
   },
   "outputs": [],
   "source": [
    "confusion_matrix(y_teste, previsoes_svm)"
   ]
  },
  {
   "cell_type": "code",
   "execution_count": null,
   "metadata": {
    "hidden": true,
    "id": "YPKWlAGAqjW6"
   },
   "outputs": [],
   "source": [
    "print(classification_report(y_teste, previsoes_svm))"
   ]
  },
  {
   "cell_type": "markdown",
   "metadata": {
    "hidden": true,
    "id": "GeeUpamU1u6d"
   },
   "source": [
    "**Análise dados de treino**"
   ]
  },
  {
   "cell_type": "code",
   "execution_count": null,
   "metadata": {
    "hidden": true,
    "id": "VVGJEYpC1u6d"
   },
   "outputs": [],
   "source": [
    "previsoes_treino = svm.predict(x_treino)\n",
    "previsoes_treino"
   ]
  },
  {
   "cell_type": "code",
   "execution_count": null,
   "metadata": {
    "hidden": true,
    "id": "Xo-iYrMn1u6d"
   },
   "outputs": [],
   "source": [
    "accuracy_score(y_treino, previsoes_treino)"
   ]
  },
  {
   "cell_type": "code",
   "execution_count": null,
   "metadata": {
    "hidden": true,
    "id": "Z42CYXuC1u6e"
   },
   "outputs": [],
   "source": [
    "confusion_matrix(y_treino, previsoes_treino)"
   ]
  },
  {
   "cell_type": "markdown",
   "metadata": {
    "hidden": true,
    "id": "xXM2zqKVH1Vi"
   },
   "source": [
    "### **Validação Cruzada**"
   ]
  },
  {
   "cell_type": "code",
   "execution_count": null,
   "metadata": {
    "hidden": true,
    "id": "tukeEaG8H1Vj"
   },
   "outputs": [],
   "source": [
    "from sklearn.model_selection import KFold\n",
    "from sklearn.model_selection import cross_val_score"
   ]
  },
  {
   "cell_type": "code",
   "execution_count": null,
   "metadata": {
    "hidden": true,
    "id": "4tYyKK_RH1Vj"
   },
   "outputs": [],
   "source": [
    "# Separando os dados em folds\n",
    "kfold = KFold(n_splits = 30, shuffle=True, random_state = 5)"
   ]
  },
  {
   "cell_type": "code",
   "execution_count": null,
   "metadata": {
    "hidden": true,
    "id": "mhD3BcOWH1Vk"
   },
   "outputs": [],
   "source": [
    "# Criando o modelo\n",
    "modelo = SVC(kernel='rbf', random_state=1, C = 2) \n",
    "resultado = cross_val_score(modelo, previsores3_esc, alvo, cv = kfold)\n",
    "\n",
    "# Usamos a média e o desvio padrão\n",
    "print(\"Acurácia Média: %.2f%%\" % (resultado.mean() * 100.0))"
   ]
  },
  {
   "cell_type": "markdown",
   "metadata": {
    "hidden": true,
    "id": "fT_1y1Hoqycp"
   },
   "source": [
    "Naive Bayes = 84,78% (treino e teste) - 234 acertos e 85,17% (validação cruzada) : previsores3_esc\n",
    "\n",
    "SVM = 86,23% - 238 acertos e 85,72% (validação cruzada) : previsores3-esc - SVC(kernel='rbf', random_state=1, C = 2)\n",
    "\n"
   ]
  },
  {
   "cell_type": "markdown",
   "metadata": {
    "heading_collapsed": true,
    "id": "jebC8M2jqyc9"
   },
   "source": [
    "# **REGRESSÃO LOGÍSTICA**"
   ]
  },
  {
   "cell_type": "markdown",
   "metadata": {
    "hidden": true,
    "id": "mprvbtyNbzP3"
   },
   "source": [
    "https://scikit-learn.org/stable/modules/generated/sklearn.linear_model.LogisticRegression.html"
   ]
  },
  {
   "cell_type": "code",
   "execution_count": null,
   "metadata": {
    "hidden": true,
    "id": "NVGe2Q7ur-Nv"
   },
   "outputs": [],
   "source": [
    "from sklearn.linear_model import LogisticRegression"
   ]
  },
  {
   "cell_type": "code",
   "execution_count": null,
   "metadata": {
    "hidden": true,
    "id": "f_RnL43VV9Yc"
   },
   "outputs": [],
   "source": [
    "logistica = LogisticRegression(random_state=1, max_iter=500, penalty=\"l2\",\n",
    "                               tol=0.0001, C=1,solver=\"lbfgs\")\n",
    "logistica.fit(x_treino, y_treino)"
   ]
  },
  {
   "cell_type": "code",
   "execution_count": null,
   "metadata": {
    "hidden": true,
    "id": "I7EqQihmWIQG"
   },
   "outputs": [],
   "source": [
    "logistica.intercept_"
   ]
  },
  {
   "cell_type": "code",
   "execution_count": null,
   "metadata": {
    "hidden": true,
    "id": "6BS-aVjsWK_0"
   },
   "outputs": [],
   "source": [
    "logistica.coef_"
   ]
  },
  {
   "cell_type": "code",
   "execution_count": null,
   "metadata": {
    "hidden": true,
    "id": "zKlba1wBWX1O"
   },
   "outputs": [],
   "source": [
    "previsoes_logistica = logistica.predict(x_teste)\n",
    "previsoes_logistica"
   ]
  },
  {
   "cell_type": "code",
   "execution_count": null,
   "metadata": {
    "hidden": true,
    "id": "PbF05awQvhzK"
   },
   "outputs": [],
   "source": [
    "from sklearn.metrics import accuracy_score, confusion_matrix, classification_report"
   ]
  },
  {
   "cell_type": "code",
   "execution_count": null,
   "metadata": {
    "hidden": true,
    "id": "72UCRQBdt2Iy"
   },
   "outputs": [],
   "source": [
    "print(\"Acurácia: %.2f%%\" % (accuracy_score(y_teste, previsoes_logistica) * 100.0))"
   ]
  },
  {
   "cell_type": "code",
   "execution_count": null,
   "metadata": {
    "hidden": true,
    "id": "g2FaBeYDt2Iz"
   },
   "outputs": [],
   "source": [
    "confusion_matrix(y_teste, previsoes_logistica)"
   ]
  },
  {
   "cell_type": "code",
   "execution_count": null,
   "metadata": {
    "hidden": true,
    "id": "MAgJo5b5t2I0"
   },
   "outputs": [],
   "source": [
    "print(classification_report(y_teste, previsoes_logistica))"
   ]
  },
  {
   "cell_type": "markdown",
   "metadata": {
    "hidden": true,
    "id": "6LpYZvhb17ms"
   },
   "source": [
    "**Análise dados de treino**"
   ]
  },
  {
   "cell_type": "code",
   "execution_count": null,
   "metadata": {
    "hidden": true,
    "id": "9Mup9Cn817mt"
   },
   "outputs": [],
   "source": [
    "previsoes_treino = logistica.predict(x_treino)\n",
    "previsoes_treino"
   ]
  },
  {
   "cell_type": "code",
   "execution_count": null,
   "metadata": {
    "hidden": true,
    "id": "T4imJ5_w17mt"
   },
   "outputs": [],
   "source": [
    "accuracy_score(y_treino, previsoes_treino)"
   ]
  },
  {
   "cell_type": "code",
   "execution_count": null,
   "metadata": {
    "hidden": true,
    "id": "2Ms9dnHk17mu"
   },
   "outputs": [],
   "source": [
    "confusion_matrix(y_treino, previsoes_treino)"
   ]
  },
  {
   "cell_type": "markdown",
   "metadata": {
    "hidden": true,
    "id": "rGdamAVpJfJ5"
   },
   "source": [
    "### **Validação Cruzada**"
   ]
  },
  {
   "cell_type": "code",
   "execution_count": null,
   "metadata": {
    "hidden": true,
    "id": "IcNfFmq9JfJ6"
   },
   "outputs": [],
   "source": [
    "from sklearn.model_selection import KFold\n",
    "from sklearn.model_selection import cross_val_score"
   ]
  },
  {
   "cell_type": "code",
   "execution_count": null,
   "metadata": {
    "hidden": true,
    "id": "srKfNrUoJfJ6"
   },
   "outputs": [],
   "source": [
    "# Separando os dados em folds\n",
    "kfold = KFold(n_splits = 30, shuffle=True, random_state = 5)"
   ]
  },
  {
   "cell_type": "code",
   "execution_count": null,
   "metadata": {
    "hidden": true,
    "id": "eHZjsD-RJfJ7"
   },
   "outputs": [],
   "source": [
    "# Criando o modelo\n",
    "modelo = LogisticRegression(random_state=1, max_iter=600, penalty=\"l2\",\n",
    "                               tol=0.0001, C=1,solver=\"lbfgs\")\n",
    "resultado = cross_val_score(modelo, previsores3_esc, alvo, cv = kfold)\n",
    "\n",
    "# Usamos a média e o desvio padrão\n",
    "print(\"Acurácia Média: %.2f%%\" % (resultado.mean() * 100.0))"
   ]
  },
  {
   "cell_type": "markdown",
   "metadata": {
    "hidden": true,
    "id": "KmKIO-uUv31v"
   },
   "source": [
    "Naive Bayes = 84,78% (treino e teste) - 234 acertos e 85,17% (validação cruzada) : previsores3_esc\n",
    "\n",
    "SVM = 86,23% - 238 acertos e 85,72% (validação cruzada) : previsores3-esc - SVC(kernel='rbf', random_state=1, C = 2)\n",
    "\n",
    "Regressão logística = 86,23% - 238 acertos e 85,83% (validação cruzada) : previsores3_esc - LogisticRegression(random_state=1, max_iter=600, penalty=\"l2\", tol=0.0001, C=1,solver=\"lbfgs\")"
   ]
  },
  {
   "cell_type": "markdown",
   "metadata": {
    "heading_collapsed": true,
    "id": "GETCbQj7v32B"
   },
   "source": [
    "# **APRENDIZAGEM BASEADA EM INSTÂNCIAS (KNN)**"
   ]
  },
  {
   "cell_type": "markdown",
   "metadata": {
    "hidden": true,
    "id": "AXOVpUsGbnlK"
   },
   "source": [
    "https://scikit-learn.org/stable/modules/generated/sklearn.neighbors.KNeighborsClassifier.html"
   ]
  },
  {
   "cell_type": "code",
   "execution_count": null,
   "metadata": {
    "hidden": true,
    "id": "u3_VSVAFwo8H"
   },
   "outputs": [],
   "source": [
    "from sklearn.neighbors import KNeighborsClassifier"
   ]
  },
  {
   "cell_type": "code",
   "execution_count": null,
   "metadata": {
    "hidden": true,
    "id": "xkC1VdFmXvcz"
   },
   "outputs": [],
   "source": [
    "knn = KNeighborsClassifier(n_neighbors=7, metric='minkowski', p=1)\n",
    "knn.fit(x_treino, y_treino)"
   ]
  },
  {
   "cell_type": "markdown",
   "metadata": {
    "hidden": true,
    "id": "CJB-tW-g2P4_"
   },
   "source": [
    "https://scikit-learn.org/stable/modules/generated/sklearn.metrics.DistanceMetric.html"
   ]
  },
  {
   "cell_type": "code",
   "execution_count": null,
   "metadata": {
    "hidden": true,
    "id": "sSCtq6WKYlFx"
   },
   "outputs": [],
   "source": [
    "previsoes_knn = knn.predict(x_teste)\n",
    "previsoes_knn"
   ]
  },
  {
   "cell_type": "code",
   "execution_count": null,
   "metadata": {
    "hidden": true,
    "id": "oG0I-trLxQ50"
   },
   "outputs": [],
   "source": [
    "y_teste"
   ]
  },
  {
   "cell_type": "code",
   "execution_count": null,
   "metadata": {
    "hidden": true,
    "id": "aQYth6LjxOSG"
   },
   "outputs": [],
   "source": [
    "from sklearn.metrics import accuracy_score, confusion_matrix, classification_report"
   ]
  },
  {
   "cell_type": "code",
   "execution_count": null,
   "metadata": {
    "hidden": true,
    "id": "OWDZlThoxOSI"
   },
   "outputs": [],
   "source": [
    "print(\"Acurácia: %.2f%%\" % (accuracy_score(y_teste, previsoes_knn) * 100.0))"
   ]
  },
  {
   "cell_type": "code",
   "execution_count": null,
   "metadata": {
    "hidden": true,
    "id": "-IGoTCdmxOSJ"
   },
   "outputs": [],
   "source": [
    "confusion_matrix(y_teste, previsoes_knn)"
   ]
  },
  {
   "cell_type": "code",
   "execution_count": null,
   "metadata": {
    "hidden": true,
    "id": "5V-bhRMvxOSJ"
   },
   "outputs": [],
   "source": [
    "print(classification_report(y_teste, previsoes_knn))"
   ]
  },
  {
   "cell_type": "markdown",
   "metadata": {
    "hidden": true,
    "id": "qEF7YW-Y2KT9"
   },
   "source": [
    "**Análise dados de treino**"
   ]
  },
  {
   "cell_type": "code",
   "execution_count": null,
   "metadata": {
    "hidden": true,
    "id": "gmZgnjMe2KT-"
   },
   "outputs": [],
   "source": [
    "previsoes_treino = knn.predict(x_treino)\n",
    "previsoes_treino"
   ]
  },
  {
   "cell_type": "code",
   "execution_count": null,
   "metadata": {
    "hidden": true,
    "id": "q5pLRV6J2KT_"
   },
   "outputs": [],
   "source": [
    "accuracy_score(y_treino, previsoes_treino)"
   ]
  },
  {
   "cell_type": "code",
   "execution_count": null,
   "metadata": {
    "hidden": true,
    "id": "w4ce2FGJ2KT_"
   },
   "outputs": [],
   "source": [
    "confusion_matrix(y_treino, previsoes_treino)"
   ]
  },
  {
   "cell_type": "markdown",
   "metadata": {
    "hidden": true,
    "id": "pUNWBzC8KJ5v"
   },
   "source": [
    "### **Validação Cruzada**"
   ]
  },
  {
   "cell_type": "code",
   "execution_count": null,
   "metadata": {
    "hidden": true,
    "id": "b88vNYd8KJ5w"
   },
   "outputs": [],
   "source": [
    "from sklearn.model_selection import KFold\n",
    "from sklearn.model_selection import cross_val_score"
   ]
  },
  {
   "cell_type": "code",
   "execution_count": null,
   "metadata": {
    "hidden": true,
    "id": "nG58w5CNKJ5w"
   },
   "outputs": [],
   "source": [
    "# Separando os dados em folds\n",
    "kfold = KFold(n_splits = 30, shuffle=True, random_state = 5)"
   ]
  },
  {
   "cell_type": "code",
   "execution_count": null,
   "metadata": {
    "hidden": true,
    "id": "V9BM96VTKJ5w"
   },
   "outputs": [],
   "source": [
    "# Criando o modelo\n",
    "modelo = KNeighborsClassifier(n_neighbors=7, metric='minkowski', p = 1)\n",
    "resultado = cross_val_score(modelo, previsores3_esc, alvo, cv = kfold)\n",
    "\n",
    "# Usamos a média e o desvio padrão\n",
    "print(\"Acurácia Média: %.2f%%\" % (resultado.mean() * 100.0))"
   ]
  },
  {
   "cell_type": "markdown",
   "metadata": {
    "hidden": true,
    "id": "ovmlWcN6xOSK"
   },
   "source": [
    "Naive Bayes = 84,78% (treino e teste) - 234 acertos e 85,17% (validação cruzada) : previsores3_esc\n",
    "\n",
    "SVM = 86,23% - 238 acertos e 85,72% (validação cruzada) : previsores3-esc - SVC(kernel='rbf', random_state=1, C = 2)\n",
    "\n",
    "Regressão logística = 86,23% - 238 acertos e 85,83% (validação cruzada) : previsores3_esc - LogisticRegression(random_state=1, max_iter=600, penalty=\"l2\", tol=0.0001, C=1,solver=\"lbfgs\")\n",
    "\n",
    "KNN = 84,06% - 232 acertos e 85,84% (validação cruzada) : previsores3_esc ou previsores_esc - KNeighborsClassifier(n_neighbors=7, metric='minkowski', p = 1) \n",
    "\n"
   ]
  },
  {
   "cell_type": "markdown",
   "metadata": {
    "heading_collapsed": true,
    "id": "VdGvKcYjODGt"
   },
   "source": [
    "# **ÁRVORE DE DECISÃO**"
   ]
  },
  {
   "cell_type": "markdown",
   "metadata": {
    "hidden": true,
    "id": "i65VtZ4pcQGP"
   },
   "source": [
    "https://scikit-learn.org/stable/modules/tree.html"
   ]
  },
  {
   "cell_type": "code",
   "execution_count": null,
   "metadata": {
    "hidden": true,
    "id": "-2oaMph5OFa2"
   },
   "outputs": [],
   "source": [
    "from sklearn.tree import DecisionTreeClassifier"
   ]
  },
  {
   "cell_type": "code",
   "execution_count": null,
   "metadata": {
    "hidden": true,
    "id": "Zxu4_zhCOMVj"
   },
   "outputs": [],
   "source": [
    "arvore = DecisionTreeClassifier(criterion='entropy', random_state = 0, max_depth=3)\n",
    "arvore.fit(x_treino, y_treino)"
   ]
  },
  {
   "cell_type": "code",
   "execution_count": null,
   "metadata": {
    "hidden": true,
    "id": "UnxRfJZXOVkk"
   },
   "outputs": [],
   "source": [
    "previsoes_arvore = arvore.predict(x_teste)\n",
    "previsoes_arvore"
   ]
  },
  {
   "cell_type": "code",
   "execution_count": null,
   "metadata": {
    "hidden": true,
    "id": "ozqiMkVAOke6"
   },
   "outputs": [],
   "source": [
    "y_teste"
   ]
  },
  {
   "cell_type": "code",
   "execution_count": null,
   "metadata": {
    "hidden": true,
    "id": "fS4QmmG9vrl4"
   },
   "outputs": [],
   "source": [
    "from sklearn.metrics import accuracy_score, confusion_matrix, classification_report"
   ]
  },
  {
   "cell_type": "code",
   "execution_count": null,
   "metadata": {
    "hidden": true,
    "id": "9vuYKW1_Onqq"
   },
   "outputs": [],
   "source": [
    "print(\"Acurácia: %.2f%%\" % (accuracy_score(y_teste, previsoes_arvore) * 100.0))"
   ]
  },
  {
   "cell_type": "code",
   "execution_count": null,
   "metadata": {
    "hidden": true,
    "id": "IAJonpblPUGh"
   },
   "outputs": [],
   "source": [
    "confusion_matrix(y_teste, previsoes_arvore)"
   ]
  },
  {
   "cell_type": "code",
   "execution_count": null,
   "metadata": {
    "hidden": true,
    "id": "wACzOEs-PcTo"
   },
   "outputs": [],
   "source": [
    "print(classification_report(y_teste, previsoes_arvore))"
   ]
  },
  {
   "cell_type": "markdown",
   "metadata": {
    "hidden": true,
    "id": "PXa_22cA1DcE"
   },
   "source": [
    "**Análise dados de treino**"
   ]
  },
  {
   "cell_type": "code",
   "execution_count": null,
   "metadata": {
    "hidden": true,
    "id": "UZFn-68G1DcF"
   },
   "outputs": [],
   "source": [
    "previsoes_treino = arvore.predict(x_treino)\n",
    "previsoes_treino"
   ]
  },
  {
   "cell_type": "code",
   "execution_count": null,
   "metadata": {
    "hidden": true,
    "id": "mDqKNd3v1DcG"
   },
   "outputs": [],
   "source": [
    "accuracy_score(y_treino, previsoes_treino)"
   ]
  },
  {
   "cell_type": "code",
   "execution_count": null,
   "metadata": {
    "hidden": true,
    "id": "dMQiq4o01DcG"
   },
   "outputs": [],
   "source": [
    "confusion_matrix(y_treino, previsoes_treino)"
   ]
  },
  {
   "cell_type": "markdown",
   "metadata": {
    "hidden": true,
    "id": "dxwugdgiEhdw"
   },
   "source": [
    "### **Validação Cruzada**"
   ]
  },
  {
   "cell_type": "code",
   "execution_count": null,
   "metadata": {
    "hidden": true,
    "id": "ArJOjabUEZJf"
   },
   "outputs": [],
   "source": [
    "from sklearn.model_selection import KFold\n",
    "from sklearn.model_selection import cross_val_score"
   ]
  },
  {
   "cell_type": "code",
   "execution_count": null,
   "metadata": {
    "hidden": true,
    "id": "zfWK55DrEZJg"
   },
   "outputs": [],
   "source": [
    "# Separando os dados em folds\n",
    "kfold = KFold(n_splits = 30, shuffle=True, random_state = 5)"
   ]
  },
  {
   "cell_type": "code",
   "execution_count": null,
   "metadata": {
    "hidden": true,
    "id": "MwGsKOFZEZJh"
   },
   "outputs": [],
   "source": [
    "# Criando o modelo\n",
    "modelo = DecisionTreeClassifier(criterion='entropy', random_state = 0, max_depth=3)\n",
    "resultado = cross_val_score(modelo, previsores3_esc, alvo, cv = kfold)\n",
    "\n",
    "# Usamos a média e o desvio padrão\n",
    "print(\"Acurácia Média: %.2f%%\" % (resultado.mean() * 100.0))"
   ]
  },
  {
   "cell_type": "markdown",
   "metadata": {
    "hidden": true,
    "id": "-Ti98jalQK23"
   },
   "source": [
    "Naive Bayes = 84,78% (treino e teste) - 234 acertos e 85,17% (validação cruzada) : previsores3_esc\n",
    "\n",
    "SVM = 86,23% - 238 acertos e 85,72% (validação cruzada) : previsores3-esc - SVC(kernel='rbf', random_state=1, C = 2)\n",
    "\n",
    "Regressão logística = 86,23% - 238 acertos e 85,83% (validação cruzada) : previsores3_esc - LogisticRegression(random_state=1, max_iter=600, penalty=\"l2\", tol=0.0001, C=1,solver=\"lbfgs\")\n",
    "\n",
    "KNN = 84,06% - 232 acertos e 85,84% (validação cruzada) : previsores3_esc ou previsores_esc - KNeighborsClassifier(n_neighbors=7, metric='minkowski', p = 1)\n",
    "\n",
    "Árvore de decisão = 83,7% (treino e teste) - 231 acertos e 83,32% (validação cruzada): previsores3_esc - DecisionTreeClassifier(criterion='entropy', random_state = 0, max_depth=3)"
   ]
  },
  {
   "cell_type": "markdown",
   "metadata": {
    "heading_collapsed": true,
    "id": "hw7px-UemoSc"
   },
   "source": [
    "# **RANDOM FOREST**"
   ]
  },
  {
   "cell_type": "markdown",
   "metadata": {
    "hidden": true,
    "id": "HAUbw5xfcCYy"
   },
   "source": [
    "https://scikit-learn.org/stable/modules/generated/sklearn.ensemble.RandomForestClassifier.html"
   ]
  },
  {
   "cell_type": "code",
   "execution_count": null,
   "metadata": {
    "hidden": true,
    "id": "BqqXdinImokj"
   },
   "outputs": [],
   "source": [
    "from sklearn.ensemble import RandomForestClassifier"
   ]
  },
  {
   "cell_type": "code",
   "execution_count": null,
   "metadata": {
    "hidden": true,
    "id": "Klr3lymumztn"
   },
   "outputs": [],
   "source": [
    "random = RandomForestClassifier(n_estimators=150, criterion='entropy', random_state = 0, max_depth=4)\n",
    "random.fit(x_treino, y_treino)"
   ]
  },
  {
   "cell_type": "code",
   "execution_count": null,
   "metadata": {
    "hidden": true,
    "id": "0JOqI4bQnY17"
   },
   "outputs": [],
   "source": [
    "previsoes_random = random.predict(x_teste)\n",
    "previsoes_random"
   ]
  },
  {
   "cell_type": "code",
   "execution_count": null,
   "metadata": {
    "hidden": true,
    "id": "fRN6hPPXn5qp"
   },
   "outputs": [],
   "source": [
    "y_teste"
   ]
  },
  {
   "cell_type": "code",
   "execution_count": null,
   "metadata": {
    "hidden": true,
    "id": "cgB44VIOvpZf"
   },
   "outputs": [],
   "source": [
    "from sklearn.metrics import accuracy_score, confusion_matrix, classification_report"
   ]
  },
  {
   "cell_type": "code",
   "execution_count": null,
   "metadata": {
    "hidden": true,
    "id": "gnAuxYDDoDxM"
   },
   "outputs": [],
   "source": [
    "print(\"Acurácia: %.2f%%\" % (accuracy_score(y_teste, previsoes_random) * 100.0))"
   ]
  },
  {
   "cell_type": "code",
   "execution_count": null,
   "metadata": {
    "hidden": true,
    "id": "zjAqh3e8oDxN"
   },
   "outputs": [],
   "source": [
    "confusion_matrix(y_teste, previsoes_random)"
   ]
  },
  {
   "cell_type": "code",
   "execution_count": null,
   "metadata": {
    "hidden": true,
    "id": "IdpisYpjoDxO"
   },
   "outputs": [],
   "source": [
    "print(classification_report(y_teste, previsoes_random))"
   ]
  },
  {
   "cell_type": "markdown",
   "metadata": {
    "hidden": true,
    "id": "e9NiPecr1bdw"
   },
   "source": [
    "**Análise dados de treino**"
   ]
  },
  {
   "cell_type": "code",
   "execution_count": null,
   "metadata": {
    "hidden": true,
    "id": "DDs9J1hX1bdx"
   },
   "outputs": [],
   "source": [
    "previsoes_treino = random.predict(x_treino)\n",
    "previsoes_treino"
   ]
  },
  {
   "cell_type": "code",
   "execution_count": null,
   "metadata": {
    "hidden": true,
    "id": "MkH9uYfz1bdy"
   },
   "outputs": [],
   "source": [
    "accuracy_score(y_treino, previsoes_treino)"
   ]
  },
  {
   "cell_type": "code",
   "execution_count": null,
   "metadata": {
    "hidden": true,
    "id": "pLge3xVL1bdy"
   },
   "outputs": [],
   "source": [
    "confusion_matrix(y_treino, previsoes_treino)"
   ]
  },
  {
   "cell_type": "markdown",
   "metadata": {
    "hidden": true,
    "id": "GH4nEvlaGOb7"
   },
   "source": [
    "### **Validação Cruzada**"
   ]
  },
  {
   "cell_type": "code",
   "execution_count": null,
   "metadata": {
    "hidden": true,
    "id": "hreEC55-GOb8"
   },
   "outputs": [],
   "source": [
    "from sklearn.model_selection import KFold\n",
    "from sklearn.model_selection import cross_val_score"
   ]
  },
  {
   "cell_type": "code",
   "execution_count": null,
   "metadata": {
    "hidden": true,
    "id": "ETYEB99OGOb9"
   },
   "outputs": [],
   "source": [
    "# Separando os dados em folds\n",
    "kfold = KFold(n_splits = 30, shuffle=True, random_state = 5)"
   ]
  },
  {
   "cell_type": "code",
   "execution_count": null,
   "metadata": {
    "hidden": true,
    "id": "7GHcsag3GOb9"
   },
   "outputs": [],
   "source": [
    "# Criando o modelo\n",
    "modelo = RandomForestClassifier(n_estimators=150, criterion='entropy', random_state = 0, max_depth=4)\n",
    "resultado = cross_val_score(modelo, previsores, alvo, cv = kfold)\n",
    "\n",
    "# Usamos a média e o desvio padrão\n",
    "print(\"Acurácia Média: %.2f%%\" % (resultado.mean() * 100.0))"
   ]
  },
  {
   "cell_type": "markdown",
   "metadata": {
    "hidden": true,
    "id": "N3dUl9DDpNnz"
   },
   "source": [
    "Naive Bayes = 84,78% (treino e teste) - 234 acertos e 85,17% (validação cruzada) : previsores3_esc\n",
    "\n",
    "SVM = 86,23% - 238 acertos e 85,72% (validação cruzada) : previsores3-esc - SVC(kernel='rbf', random_state=1, C = 2)\n",
    "\n",
    "Regressão logística = 86,23% - 238 acertos e 85,83% (validação cruzada) : previsores3_esc - LogisticRegression(random_state=1, max_iter=600, penalty=\"l2\", tol=0.0001, C=1,solver=\"lbfgs\")\n",
    "\n",
    "KNN = 84,06% - 232 acertos e 85,84% (validação cruzada) : previsores3_esc ou previsores_esc - KNeighborsClassifier(n_neighbors=7, metric='minkowski', p = 1)\n",
    "\n",
    "Árvore de decisão = 83,7% (treino e teste) - 231 acertos e 83,32% (validação cruzada): previsores3_esc - DecisionTreeClassifier(criterion='entropy', random_state = 0, max_depth=3)\n",
    "\n",
    "Random Forest = 86,59% - 239 acertos e 85,92% (validação cruzada) : previsores - RandomForestClassifier(n_estimators=150, criterion='entropy', random_state = 0, max_depth=4)"
   ]
  },
  {
   "cell_type": "markdown",
   "metadata": {
    "heading_collapsed": true,
    "id": "jH3OocboSGXH"
   },
   "source": [
    "# **XGBOOST**"
   ]
  },
  {
   "cell_type": "markdown",
   "metadata": {
    "hidden": true,
    "id": "OpLLJlcnbcsR"
   },
   "source": [
    "https://xgboost.readthedocs.io/en/stable/"
   ]
  },
  {
   "cell_type": "code",
   "execution_count": null,
   "metadata": {
    "hidden": true,
    "id": "PKdcu1J2Qk0h"
   },
   "outputs": [],
   "source": [
    "from xgboost import XGBClassifier"
   ]
  },
  {
   "cell_type": "code",
   "execution_count": null,
   "metadata": {
    "hidden": true,
    "id": "jyOMVARbQmLa"
   },
   "outputs": [],
   "source": [
    "xg = XGBClassifier(max_depth=2, learning_rate=0.05, n_estimators=250, objective='binary:logistic', random_state=3)\n",
    "xg.fit(x_treino,y_treino)"
   ]
  },
  {
   "cell_type": "code",
   "execution_count": null,
   "metadata": {
    "hidden": true,
    "id": "QrR1ZLZVQ5K4"
   },
   "outputs": [],
   "source": [
    "previsoes_xg = xg.predict(x_teste)\n",
    "previsoes_xg"
   ]
  },
  {
   "cell_type": "code",
   "execution_count": null,
   "metadata": {
    "hidden": true,
    "id": "HSR36D1mRZpz"
   },
   "outputs": [],
   "source": [
    "from sklearn.metrics import accuracy_score, confusion_matrix, classification_report"
   ]
  },
  {
   "cell_type": "code",
   "execution_count": null,
   "metadata": {
    "hidden": true,
    "id": "UxMj0PznRZp0"
   },
   "outputs": [],
   "source": [
    "print(\"Acurácia: %.2f%%\" % (accuracy_score(y_teste, previsoes_xg) * 100.0))"
   ]
  },
  {
   "cell_type": "code",
   "execution_count": null,
   "metadata": {
    "hidden": true,
    "id": "5PcyMmFqRZp1"
   },
   "outputs": [],
   "source": [
    "confusion_matrix(y_teste, previsoes_xg)"
   ]
  },
  {
   "cell_type": "code",
   "execution_count": null,
   "metadata": {
    "hidden": true,
    "id": "fBYjluOzRZp2"
   },
   "outputs": [],
   "source": [
    "print(classification_report(y_teste, previsoes_xg))"
   ]
  },
  {
   "cell_type": "markdown",
   "metadata": {
    "hidden": true,
    "id": "VLAUCC_t2dkX"
   },
   "source": [
    "**Análise dados de treino**"
   ]
  },
  {
   "cell_type": "code",
   "execution_count": null,
   "metadata": {
    "hidden": true,
    "id": "K5oak1Jy2dkY"
   },
   "outputs": [],
   "source": [
    "previsoes_treino = xg.predict(x_treino)\n",
    "previsoes_treino"
   ]
  },
  {
   "cell_type": "code",
   "execution_count": null,
   "metadata": {
    "hidden": true,
    "id": "70k-raF62dkZ"
   },
   "outputs": [],
   "source": [
    "accuracy_score(y_treino, previsoes_treino)"
   ]
  },
  {
   "cell_type": "code",
   "execution_count": null,
   "metadata": {
    "hidden": true,
    "id": "Hy7uFw9E2dkZ"
   },
   "outputs": [],
   "source": [
    "confusion_matrix(y_treino, previsoes_treino)"
   ]
  },
  {
   "cell_type": "markdown",
   "metadata": {
    "hidden": true,
    "id": "gHvG_uWZLARo"
   },
   "source": [
    "### **Validação Cruzada**"
   ]
  },
  {
   "cell_type": "code",
   "execution_count": null,
   "metadata": {
    "hidden": true,
    "id": "l3RZmFL_LARp"
   },
   "outputs": [],
   "source": [
    "from sklearn.model_selection import KFold\n",
    "from sklearn.model_selection import cross_val_score"
   ]
  },
  {
   "cell_type": "code",
   "execution_count": null,
   "metadata": {
    "hidden": true,
    "id": "BKmF7defLARq"
   },
   "outputs": [],
   "source": [
    "# Separando os dados em folds\n",
    "kfold = KFold(n_splits = 30, shuffle=True, random_state = 5)"
   ]
  },
  {
   "cell_type": "code",
   "execution_count": null,
   "metadata": {
    "hidden": true,
    "id": "1h7FUmsWLARr"
   },
   "outputs": [],
   "source": [
    "# Criando o modelo\n",
    "modelo = XGBClassifier(max_depth=2, learning_rate=0.05, n_estimators=250, objective='binary:logistic', random_state=3)\n",
    "resultado = cross_val_score(modelo, previsores, alvo, cv = kfold)\n",
    "\n",
    "# Usamos a média e o desvio padrão\n",
    "print(\"Acurácia Média: %.2f%%\" % (resultado.mean() * 100.0))"
   ]
  },
  {
   "cell_type": "markdown",
   "metadata": {
    "hidden": true,
    "id": "gkZCAe-OR3rW"
   },
   "source": [
    "Naive Bayes = 84,78% (treino e teste) - 234 acertos e 85,17% (validação cruzada) : previsores3_esc\n",
    "\n",
    "SVM = 86,23% - 238 acertos e 85,72% (validação cruzada) : previsores3-esc - SVC(kernel='rbf', random_state=1, C = 2)\n",
    "\n",
    "Regressão logística = 86,23% - 238 acertos e 85,83% (validação cruzada) : previsores3_esc - LogisticRegression(random_state=1, max_iter=600, penalty=\"l2\", tol=0.0001, C=1,solver=\"lbfgs\")\n",
    "\n",
    "KNN = 84,06% - 232 acertos e 85,84% (validação cruzada) : previsores3_esc ou previsores_esc - KNeighborsClassifier(n_neighbors=7, metric='minkowski', p = 1)\n",
    "\n",
    "Árvore de decisão = 83,7% (treino e teste) - 231 acertos e 83,32% (validação cruzada): previsores3_esc - DecisionTreeClassifier(criterion='entropy', random_state = 0, max_depth=3)\n",
    "\n",
    "Random Forest = 86,59% - 239 acertos e 85,92% (validação cruzada) : previsores - RandomForestClassifier(n_estimators=150, criterion='entropy', random_state = 0, max_depth=4)\n",
    "\n",
    "XGboost = 87,68% - 242 acertos e 87,13% (validação cruzada) : previsores - XGBClassifier(max_depth=2, learning_rate=0.05, n_estimators=250, objective='binary:logistic', random_state=3)"
   ]
  },
  {
   "cell_type": "markdown",
   "metadata": {
    "heading_collapsed": true,
    "id": "sPZLUYzCqTWL"
   },
   "source": [
    "# **LIGHTGBM**"
   ]
  },
  {
   "cell_type": "markdown",
   "metadata": {
    "hidden": true,
    "id": "LLop9X5OVOfc"
   },
   "source": [
    "https://lightgbm.readthedocs.io/en/latest/pythonapi/lightgbm.train.html"
   ]
  },
  {
   "cell_type": "code",
   "execution_count": null,
   "metadata": {
    "hidden": true,
    "id": "r2fYJevzt58X"
   },
   "outputs": [],
   "source": [
    "# Instalação do Algoritmo\n",
    "!pip install lightgbm"
   ]
  },
  {
   "cell_type": "code",
   "execution_count": null,
   "metadata": {
    "hidden": true,
    "id": "HyJzU46uq9mQ"
   },
   "outputs": [],
   "source": [
    "import lightgbm as lgb "
   ]
  },
  {
   "cell_type": "code",
   "execution_count": null,
   "metadata": {
    "hidden": true,
    "id": "D7GfTX-TxWh2"
   },
   "outputs": [],
   "source": [
    "# Dataset para treino\n",
    "dataset = lgb.Dataset(x_treino,label=y_treino)"
   ]
  },
  {
   "cell_type": "markdown",
   "metadata": {
    "hidden": true,
    "id": "9sYH7x7pjczh"
   },
   "source": [
    "**Hiperparâmetros**\n",
    "\n",
    "**Controle de ajuste**\n",
    "\n",
    "num_leaves : define o número de folhas a serem formadas em uma árvore. Não tem uma relação direta entre num_leaves e max_depth e, portanto, os dois não devem estar vinculados um ao outro.\n",
    "\n",
    "max_depth : especifica a profundidade máxima ou nível até o qual a árvore pode crescer.\n",
    "\n",
    "**Controle de velocidade**\n",
    "\n",
    "learning_rate: taxa de aprendizagem, determina o impacto de cada árvore no resultado final.\n",
    "\n",
    "max_bin : O valor menor de max_bin reduz muito tempo de procesamento, pois agrupa os valores do recurso em caixas discretas, o que é computacionalmente mais barato.\n",
    "\n",
    "**Controle de precisão**\n",
    "\n",
    "num_leaves : valor alto produz árvores mais profundas com maior precisão, mas leva ao overfitting. \n",
    "\n",
    "max_bin : valores altos tem efeito semelhante ao causado pelo aumento do valor de num_leaves e também torna mais lento o procedimento de treinamento."
   ]
  },
  {
   "cell_type": "code",
   "execution_count": null,
   "metadata": {
    "hidden": true,
    "id": "eRYtywqRxnRM"
   },
   "outputs": [],
   "source": [
    "# Parâmetros\n",
    "parametros = {'num_leaves':250, # número de folhas\n",
    "              'objective':'binary', # classificação Binária     \n",
    "              'max_depth':2,\n",
    "              'learning_rate':.05,\n",
    "              'max_bin':100}"
   ]
  },
  {
   "cell_type": "code",
   "execution_count": null,
   "metadata": {
    "hidden": true,
    "id": "s-75IteevPFt"
   },
   "outputs": [],
   "source": [
    "lgbm=lgb.train(parametros,dataset,num_boost_round=200)"
   ]
  },
  {
   "cell_type": "code",
   "execution_count": null,
   "metadata": {
    "hidden": true,
    "id": "w2eVSPh7XeQe"
   },
   "outputs": [],
   "source": [
    "# Marcação do tempo de execução\n",
    "from datetime import datetime\n",
    "inicio=datetime.now()\n",
    "lgbm=lgb.train(parametros,dataset)\n",
    "fim=datetime.now()\n",
    "\n",
    "tempo = fim - inicio\n",
    "tempo"
   ]
  },
  {
   "cell_type": "code",
   "execution_count": null,
   "metadata": {
    "hidden": true,
    "id": "FbY1sQrzvPFv"
   },
   "outputs": [],
   "source": [
    "previsoes_lgbm = lgbm.predict(x_teste)\n",
    "previsoes_lgbm"
   ]
  },
  {
   "cell_type": "code",
   "execution_count": null,
   "metadata": {
    "hidden": true,
    "id": "eQ-eOobHzgdY"
   },
   "outputs": [],
   "source": [
    "previsoes_lgbm.shape"
   ]
  },
  {
   "cell_type": "code",
   "execution_count": null,
   "metadata": {
    "hidden": true,
    "id": "bCK5052RyreS"
   },
   "outputs": [],
   "source": [
    "# Quando for menor que 5 considera 0 e quando for maior ou igual a 5 considera 1\n",
    "for i in range(0, 276):\n",
    "    if previsoes_lgbm[i] >= .5:       \n",
    "       previsoes_lgbm[i] = 1\n",
    "    else:  \n",
    "       previsoes_lgbm[i] = 0"
   ]
  },
  {
   "cell_type": "code",
   "execution_count": null,
   "metadata": {
    "hidden": true,
    "id": "X3kyhhXJzmtG"
   },
   "outputs": [],
   "source": [
    "previsoes_lgbm"
   ]
  },
  {
   "cell_type": "code",
   "execution_count": null,
   "metadata": {
    "hidden": true,
    "id": "wvItoNPgvPFw"
   },
   "outputs": [],
   "source": [
    "y_teste"
   ]
  },
  {
   "cell_type": "code",
   "execution_count": null,
   "metadata": {
    "hidden": true,
    "id": "7zmmlXg00NgO"
   },
   "outputs": [],
   "source": [
    "from sklearn.metrics import accuracy_score, confusion_matrix, classification_report"
   ]
  },
  {
   "cell_type": "code",
   "execution_count": null,
   "metadata": {
    "hidden": true,
    "id": "7jtEMCEd0NgP"
   },
   "outputs": [],
   "source": [
    "print(\"Acurácia: %.2f%%\" % (accuracy_score(y_teste, previsoes_lgbm) * 100.0))"
   ]
  },
  {
   "cell_type": "code",
   "execution_count": null,
   "metadata": {
    "hidden": true,
    "id": "Vi92nyDd0NgQ"
   },
   "outputs": [],
   "source": [
    "confusion_matrix(y_teste, previsoes_lgbm)"
   ]
  },
  {
   "cell_type": "markdown",
   "metadata": {
    "hidden": true,
    "id": "u3pNMaVs0NgR"
   },
   "source": [
    "**Análise dados de treino**"
   ]
  },
  {
   "cell_type": "code",
   "execution_count": null,
   "metadata": {
    "hidden": true,
    "id": "fS-C8nIw0NgR"
   },
   "outputs": [],
   "source": [
    "previsoes_treino = lgbm.predict(x_treino)\n",
    "previsoes_treino"
   ]
  },
  {
   "cell_type": "code",
   "execution_count": null,
   "metadata": {
    "hidden": true,
    "id": "5ZTvZKs51umQ"
   },
   "outputs": [],
   "source": [
    "previsoes_treino.shape"
   ]
  },
  {
   "cell_type": "code",
   "execution_count": null,
   "metadata": {
    "hidden": true,
    "id": "y_Xb-SEN1bNL"
   },
   "outputs": [],
   "source": [
    "# Quando for menor que 5 considera 0 e quando for maior ou igual a 5 considera 1\n",
    "for i in range(0, 641):\n",
    "    if previsoes_treino[i] >= .5:       \n",
    "       previsoes_treino[i] = 1\n",
    "    else:  \n",
    "       previsoes_treino[i] = 0"
   ]
  },
  {
   "cell_type": "code",
   "execution_count": null,
   "metadata": {
    "hidden": true,
    "id": "ENkdM8Jd1oCJ"
   },
   "outputs": [],
   "source": [
    "previsoes_treino"
   ]
  },
  {
   "cell_type": "code",
   "execution_count": null,
   "metadata": {
    "hidden": true,
    "id": "NKAIaTGF0NgS"
   },
   "outputs": [],
   "source": [
    "accuracy_score(y_treino, previsoes_treino)"
   ]
  },
  {
   "cell_type": "code",
   "execution_count": null,
   "metadata": {
    "hidden": true,
    "id": "dDOEsI4W0NgT"
   },
   "outputs": [],
   "source": [
    "confusion_matrix(y_treino, previsoes_treino)"
   ]
  },
  {
   "cell_type": "markdown",
   "metadata": {
    "hidden": true,
    "id": "3hEGp61Q0NgT"
   },
   "source": [
    "### **Validação Cruzada**"
   ]
  },
  {
   "cell_type": "code",
   "execution_count": null,
   "metadata": {
    "hidden": true,
    "id": "RwR3Salk0NgT"
   },
   "outputs": [],
   "source": [
    "from sklearn.model_selection import KFold\n",
    "from sklearn.model_selection import cross_val_score"
   ]
  },
  {
   "cell_type": "code",
   "execution_count": null,
   "metadata": {
    "hidden": true,
    "id": "8Xnl-F4XSNTJ"
   },
   "outputs": [],
   "source": [
    "# Separando os dados em folds\n",
    "kfold = KFold(n_splits = 30, shuffle=True, random_state = 5)"
   ]
  },
  {
   "cell_type": "code",
   "execution_count": null,
   "metadata": {
    "hidden": true,
    "id": "Qq7iUdMxSNTL"
   },
   "outputs": [],
   "source": [
    "# Criando o modelo\n",
    "modelo = lgb.LGBMClassifier(num_leaves = 250, objective = 'binary',     \n",
    "                            max_depth = 2, learning_rate = .05, max_bin =100)\n",
    "resultado = cross_val_score(modelo, previsores, alvo, cv = kfold)\n",
    "\n",
    "# Usamos a média e o desvio padrão\n",
    "print(\"Acurácia Média: %.2f%%\" % (resultado.mean() * 100.0))"
   ]
  },
  {
   "cell_type": "markdown",
   "metadata": {
    "hidden": true,
    "id": "W6ADUoMW0NgV"
   },
   "source": [
    "Naive Bayes = 84,78% (treino e teste) - 234 acertos e 85,17% (validação cruzada) : previsores3_esc\n",
    "\n",
    "SVM = 86,23% - 238 acertos e 85,72% (validação cruzada) : previsores3-esc - SVC(kernel='rbf', random_state=1, C = 2)\n",
    "\n",
    "Regressão logística = 86,23% - 238 acertos e 85,83% (validação cruzada) : previsores3_esc - LogisticRegression(random_state=1, max_iter=600, penalty=\"l2\", tol=0.0001, C=1,solver=\"lbfgs\")\n",
    "\n",
    "KNN = 84,06% - 232 acertos e 85,84% (validação cruzada) : previsores3_esc ou previsores_esc - KNeighborsClassifier(n_neighbors=7, metric='minkowski', p = 1)\n",
    "\n",
    "Árvore de decisão = 83,7% (treino e teste) - 231 acertos e 83,32% (validação cruzada): previsores3_esc - DecisionTreeClassifier(criterion='entropy', random_state = 0, max_depth=3)\n",
    "\n",
    "Random Forest = 86,59% - 239 acertos e 85,92% (validação cruzada) : previsores - RandomForestClassifier(n_estimators=150, criterion='entropy', random_state = 0, max_depth=4)\n",
    "\n",
    "XGboost = 87,68% - 242 acertos e 87,13% (validação cruzada) : previsores - XGBClassifier(max_depth=2, learning_rate=0.05, n_estimators=250, objective='binary:logistic', random_state=3)\n",
    "\n",
    "LightGBM = 86,23% (treino e teste)- 238 acertos e 85,93% (validação cruzada) : previsores - lgb.LGBMClassifier(num_leaves = 250, objective = 'binary',  max_depth = 2, learning_rate = .05, max_bin =100)"
   ]
  },
  {
   "cell_type": "markdown",
   "metadata": {
    "id": "yKpYGEuWUChU"
   },
   "source": [
    "# **CATBOOST**"
   ]
  },
  {
   "cell_type": "markdown",
   "metadata": {
    "id": "LMqQ_NMTUChV"
   },
   "source": [
    "https://catboost.ai/en/docs/"
   ]
  },
  {
   "cell_type": "code",
   "execution_count": null,
   "metadata": {
    "id": "Vkt7hfJVUChV"
   },
   "outputs": [],
   "source": [
    "#Instalação\n",
    "!pip install catboost"
   ]
  },
  {
   "cell_type": "code",
   "execution_count": null,
   "metadata": {
    "id": "kisDuh-RUChW"
   },
   "outputs": [],
   "source": [
    "from catboost import CatBoostClassifier"
   ]
  },
  {
   "cell_type": "code",
   "execution_count": null,
   "metadata": {
    "id": "fochAJydUChX"
   },
   "outputs": [],
   "source": [
    "df"
   ]
  },
  {
   "cell_type": "code",
   "execution_count": null,
   "metadata": {
    "id": "mFw4wb_2CZWv"
   },
   "outputs": [],
   "source": [
    "previsores4 = df.iloc[:, 0:11]"
   ]
  },
  {
   "cell_type": "code",
   "execution_count": null,
   "metadata": {
    "id": "6EGMtQa9Dwf7"
   },
   "outputs": [],
   "source": [
    "previsores4.head()"
   ]
  },
  {
   "cell_type": "code",
   "execution_count": null,
   "metadata": {
    "id": "G0qli4gSEBbM"
   },
   "outputs": [],
   "source": [
    "alvo4 = df.iloc[:, 11]"
   ]
  },
  {
   "cell_type": "code",
   "execution_count": null,
   "metadata": {
    "id": "hAcS1ULCC78V"
   },
   "outputs": [],
   "source": [
    "from sklearn.model_selection import train_test_split"
   ]
  },
  {
   "cell_type": "code",
   "execution_count": null,
   "metadata": {
    "id": "OP69_qpGC78W"
   },
   "outputs": [],
   "source": [
    "x_treino, x_teste, y_treino, y_teste = train_test_split(previsores4, alvo4, test_size = 0.3, random_state = 0)"
   ]
  },
  {
   "cell_type": "code",
   "execution_count": null,
   "metadata": {
    "id": "B9Gb_1r2UChX"
   },
   "outputs": [],
   "source": [
    "categoricas = ['Sex','ChestPainType', 'RestingECG', 'ExerciseAngina', 'ST_Slope']"
   ]
  },
  {
   "cell_type": "code",
   "execution_count": null,
   "metadata": {
    "id": "kM7Xaph4UChY"
   },
   "outputs": [],
   "source": [
    "catboost = CatBoostClassifier(task_type='CPU', iterations=100, learning_rate=0.1, depth = 8, random_state = 5, \n",
    "                              eval_metric=\"Accuracy\")"
   ]
  },
  {
   "cell_type": "code",
   "execution_count": null,
   "metadata": {
    "id": "frZ9Fw1EUChY"
   },
   "outputs": [],
   "source": [
    "catboost.fit( x_treino, y_treino, cat_features= categoricas, plot=True, eval_set=(x_teste, y_teste))"
   ]
  },
  {
   "cell_type": "code",
   "execution_count": null,
   "metadata": {
    "id": "MIJVraLTUChZ"
   },
   "outputs": [],
   "source": [
    "previsoes_cat = catboost.predict(x_teste)\n",
    "previsoes_cat"
   ]
  },
  {
   "cell_type": "code",
   "execution_count": null,
   "metadata": {
    "id": "dSrjeuL_UCha"
   },
   "outputs": [],
   "source": [
    "y_teste"
   ]
  },
  {
   "cell_type": "code",
   "execution_count": null,
   "metadata": {
    "id": "r6FeKp07UCha"
   },
   "outputs": [],
   "source": [
    "from sklearn.metrics import accuracy_score, confusion_matrix, classification_report"
   ]
  },
  {
   "cell_type": "code",
   "execution_count": null,
   "metadata": {
    "id": "rknZXiSyUChb"
   },
   "outputs": [],
   "source": [
    "print(\"Acurácia: %.2f%%\" % (accuracy_score(y_teste, previsoes_cat) * 100.0))"
   ]
  },
  {
   "cell_type": "code",
   "execution_count": null,
   "metadata": {
    "id": "coB92zR9UChb"
   },
   "outputs": [],
   "source": [
    "confusion_matrix(y_teste, previsoes_cat)"
   ]
  },
  {
   "cell_type": "markdown",
   "metadata": {
    "id": "IA02yBduUChc"
   },
   "source": [
    "**Análise dados de treino**"
   ]
  },
  {
   "cell_type": "code",
   "execution_count": null,
   "metadata": {
    "id": "pu0f-5frUChc"
   },
   "outputs": [],
   "source": [
    "previsoes_treino = catboost.predict(x_treino)\n",
    "previsoes_treino"
   ]
  },
  {
   "cell_type": "code",
   "execution_count": null,
   "metadata": {
    "id": "agSmZWOEUChc"
   },
   "outputs": [],
   "source": [
    "accuracy_score(y_treino, previsoes_treino)"
   ]
  },
  {
   "cell_type": "code",
   "execution_count": null,
   "metadata": {
    "id": "Oh06bx0IUChd"
   },
   "outputs": [],
   "source": [
    "confusion_matrix(y_treino, previsoes_treino)"
   ]
  },
  {
   "cell_type": "markdown",
   "metadata": {
    "id": "2LgdzmpMUChd"
   },
   "source": [
    "### **Validação Cruzada**"
   ]
  },
  {
   "cell_type": "code",
   "execution_count": null,
   "metadata": {
    "id": "N80OsHhNUChd"
   },
   "outputs": [],
   "source": [
    "from sklearn.model_selection import KFold\n",
    "from sklearn.model_selection import cross_val_score"
   ]
  },
  {
   "cell_type": "code",
   "execution_count": null,
   "metadata": {
    "id": "vkhW9kFUUChd"
   },
   "outputs": [],
   "source": [
    "# Separando os dados em folds\n",
    "kfold = KFold(n_splits = 30, shuffle=True, random_state = 5)"
   ]
  },
  {
   "cell_type": "code",
   "execution_count": null,
   "metadata": {
    "id": "lwgfw-cVUChd"
   },
   "outputs": [],
   "source": [
    "# Criando o modelo\n",
    "modelo = CatBoostClassifier(task_type='CPU', iterations=100, learning_rate=0.1, depth = 8, random_state = 5, \n",
    "                              eval_metric=\"Accuracy\")\n",
    "resultado = cross_val_score(modelo, previsores, alvo, cv = kfold)\n",
    "\n",
    "# Usamos a média e o desvio padrão\n",
    "print(\"Acurácia Média: %.2f%%\" % (resultado.mean() * 100.0))"
   ]
  },
  {
   "cell_type": "markdown",
   "metadata": {
    "id": "gco4qH1qUChe"
   },
   "source": [
    "Naive Bayes = 84,78% (treino e teste) - 234 acertos e 85,17% (validação cruzada) : previsores3_esc\n",
    "\n",
    "SVM = 86,23% - 238 acertos e 85,72% (validação cruzada) : previsores3-esc - SVC(kernel='rbf', random_state=1, C = 2)\n",
    "\n",
    "Regressão logística = 86,23% - 238 acertos e 85,83% (validação cruzada) : previsores3_esc - LogisticRegression(random_state=1, max_iter=600, penalty=\"l2\", tol=0.0001, C=1,solver=\"lbfgs\")\n",
    "\n",
    "KNN = 84,06% - 232 acertos e 85,84% (validação cruzada) : previsores3_esc ou previsores_esc - KNeighborsClassifier(n_neighbors=7, metric='minkowski', p = 1)\n",
    "\n",
    "Árvore de decisão = 83,7% (treino e teste) - 231 acertos e 83,32% (validação cruzada): previsores3_esc - DecisionTreeClassifier(criterion='entropy', random_state = 0, max_depth=3)\n",
    "\n",
    "Random Forest = 86,59% - 239 acertos e 85,92% (validação cruzada) : previsores - RandomForestClassifier(n_estimators=150, criterion='entropy', random_state = 0, max_depth=4)\n",
    "\n",
    "**XGboost = 87,68% - 242 acertos e 87,13% (validação cruzada) : previsores - XGBClassifier(max_depth=2, learning_rate=0.05, n_estimators=250, objective='binary:logistic', random_state=3)**\n",
    "\n",
    "LightGBM = 86,23% (treino e teste)- 238 acertos e 85,93% (validação cruzada) : previsores - lgb.LGBMClassifier(num_leaves = 250, objective = 'binary',  max_depth = 2, learning_rate = .05, max_bin =100)\n",
    "\n",
    "CatBoost = 86,96% (treino e teste) previsores4 - 240 acertos e 88% (validação cruzada com previsores) - CatBoostClassifier(task_type='CPU', iterations=100, learning_rate=0.1, depth = 8, random_state = 5, eval_metric=\"Accuracy\")"
   ]
  },
  {
   "cell_type": "markdown",
   "metadata": {
    "id": "-SI78UagmLD7"
   },
   "source": [
    "# **Salvando dados para Deploy**"
   ]
  },
  {
   "cell_type": "code",
   "execution_count": null,
   "metadata": {
    "colab": {
     "base_uri": "https://localhost:8080/"
    },
    "id": "LNMNKr4TmLD8",
    "outputId": "4ea7c676-03f7-4c5f-97ab-ec346253c427"
   },
   "outputs": [],
   "source": [
    "previsores"
   ]
  },
  {
   "cell_type": "code",
   "execution_count": null,
   "metadata": {
    "colab": {
     "base_uri": "https://localhost:8080/"
    },
    "id": "isSCWsMPDdw6",
    "outputId": "c9bed013-e189-4c52-c55a-2a47182611ae"
   },
   "outputs": [],
   "source": [
    "alvo"
   ]
  },
  {
   "cell_type": "code",
   "execution_count": null,
   "metadata": {
    "id": "XUYRtI5VDBXF"
   },
   "outputs": [],
   "source": [
    "np.savetxt('previsores.csv', previsores, delimiter=',')"
   ]
  },
  {
   "cell_type": "code",
   "execution_count": null,
   "metadata": {
    "id": "dd7lbPU3DQFO"
   },
   "outputs": [],
   "source": [
    "np.savetxt('alvo.csv', alvo, delimiter=',')"
   ]
  },
  {
   "cell_type": "markdown",
   "metadata": {
    "id": "Q6LoOxMow4Ci"
   },
   "source": [
    "# **DESAFIO 1**"
   ]
  },
  {
   "cell_type": "markdown",
   "metadata": {
    "id": "bjLFumRQxayX"
   },
   "source": [
    "DESENVOLVER E SELECIONAR O MELHOR ALGORITMO DE MACHINE LEARNING DE CLASSIFICAÇÃO PARA O DATASET DO LINK A SEGUIR:"
   ]
  },
  {
   "cell_type": "markdown",
   "metadata": {
    "id": "VG8xV9wYxKk2"
   },
   "source": [
    "https://www.kaggle.com/uciml/breast-cancer-wisconsin-data"
   ]
  }
 ],
 "metadata": {
  "colab": {
   "name": "classificacao.ipynb",
   "provenance": []
  },
  "kernelspec": {
   "display_name": "Python 3 (ipykernel)",
   "language": "python",
   "name": "python3"
  },
  "language_info": {
   "codemirror_mode": {
    "name": "ipython",
    "version": 3
   },
   "file_extension": ".py",
   "mimetype": "text/x-python",
   "name": "python",
   "nbconvert_exporter": "python",
   "pygments_lexer": "ipython3",
   "version": "3.10.4"
  }
 },
 "nbformat": 4,
 "nbformat_minor": 1
}
