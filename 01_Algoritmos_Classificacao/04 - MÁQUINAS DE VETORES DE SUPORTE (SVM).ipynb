{
 "cells": [
  {
   "cell_type": "markdown",
   "id": "65aa2a06",
   "metadata": {},
   "source": [
    "### **Abrindo os arquivos criados no Pre-Processamento**"
   ]
  },
  {
   "cell_type": "code",
   "execution_count": 1,
   "id": "bac21ecb",
   "metadata": {},
   "outputs": [],
   "source": [
    "# Importando a Biblioteca\n",
    "import pickle"
   ]
  },
  {
   "cell_type": "code",
   "execution_count": 2,
   "id": "cf623a2c",
   "metadata": {},
   "outputs": [],
   "source": [
    "alvo           = pickle.load(open('heart.pkl',  'rb'))\n",
    "previsores     = pickle.load(open('heart2.pkl', 'rb'))\n",
    "previsores_esc = pickle.load(open('heart3.pkl', 'rb'))\n",
    "previsores2    = pickle.load(open('heart4.pkl', 'rb'))\n",
    "previsores3    = pickle.load(open('heart5.pkl', 'rb'))\n",
    "previsores3_esc= pickle.load(open('heart6.pkl', 'rb'))"
   ]
  },
  {
   "cell_type": "markdown",
   "id": "921607ba",
   "metadata": {},
   "source": [
    "# RESUMO DO PRE-PROCESSAMENTO\n",
    "\n",
    "**<font color='green'> alvo </font>** = variável que se pretende atingir (tem ou não doença cardíaca).\n",
    "\n",
    "**<font color='green'> Previsores </font>** = conjunto de variáveis previsoras com as variáveis categóricas transformadas em numéricas manualmente, sem escalonar.\n",
    "\n",
    "**<font color='green'> Previsores_esc </font>** = conjunto de variáveis previsoras com as variáveis categóricas transformadas em numéricas, escalonada.\n",
    "\n",
    "**<font color='green'> Previsores2 </font>** = conjunto de variáveis previsoras com as variáveis categóricas transformadas em numéricas pelo labelencoder.\n",
    "\n",
    "**<font color='green'> Previsores3 </font>** = conjunto de variáveis previsoras transformadas pelo labelencoder e onehotencoder, sem escalonar.\n",
    "\n",
    "**<font color='green'> Previsores3_esc </font>** = conjunto de variáveis previsoras transformadas pelo labelencoder e onehotencoder escalonada."
   ]
  },
  {
   "cell_type": "markdown",
   "id": "648ec9f9",
   "metadata": {},
   "source": [
    "## **BASE DE TREINO E TESTE**"
   ]
  },
  {
   "cell_type": "code",
   "execution_count": 3,
   "id": "c5ee51ce",
   "metadata": {},
   "outputs": [],
   "source": [
    "# Importando a biblioteca\n",
    "from sklearn.model_selection import train_test_split"
   ]
  },
  {
   "cell_type": "markdown",
   "id": "758f249a",
   "metadata": {},
   "source": [
    "**Parâmetros train_test_split:**   \n",
    "- **arrays:** nomes dos atributos previsores e alvo.   \n",
    "- **test_size:** tamanho em porcentagem dos dados de teste. default é none.   \n",
    "- **train_size:** tamanho em porcentagem dos dados de treinamento.default é none.  \n",
    "- **random_state:** nomeação de um estado aleatório.   \n",
    "- **shuffle:** embaralhamento dos dados aleatórios. Associado com o random_state ocorre o mesmo embaralhamento sempre. Default é True.  \n",
    "- **stratify:** Possibilidade de dividir os dados de forma estratificada. Default é None (nesse caso é mantido a proporção, isto é, se tem 30% de zeros e 70% de 1 no dataframe, na separação em treinamento e teste se manterá essa proporção)."
   ]
  },
  {
   "cell_type": "code",
   "execution_count": 4,
   "id": "d0b465e4",
   "metadata": {},
   "outputs": [],
   "source": [
    "# Separando teste e treino\n",
    "x_treino, x_test, y_treino, y_test = train_test_split(previsores3_esc, alvo, test_size = 0.3, random_state=10)"
   ]
  },
  {
   "cell_type": "code",
   "execution_count": 5,
   "id": "d7d8a095",
   "metadata": {},
   "outputs": [
    {
     "data": {
      "text/plain": [
       "((641, 20), (276, 20))"
      ]
     },
     "execution_count": 5,
     "metadata": {},
     "output_type": "execute_result"
    }
   ],
   "source": [
    "# Shape de x\n",
    "x_treino.shape, x_test.shape"
   ]
  },
  {
   "cell_type": "code",
   "execution_count": 6,
   "id": "a7adf818",
   "metadata": {},
   "outputs": [
    {
     "data": {
      "text/plain": [
       "((641,), (276,))"
      ]
     },
     "execution_count": 6,
     "metadata": {},
     "output_type": "execute_result"
    }
   ],
   "source": [
    "# Shape de y\n",
    "y_treino.shape, y_test.shape"
   ]
  },
  {
   "cell_type": "markdown",
   "id": "f93388a0",
   "metadata": {},
   "source": [
    "# **MÁQUINAS DE VETORES DE SUPORTE (SVM)**"
   ]
  },
  {
   "cell_type": "markdown",
   "id": "aa4072ff",
   "metadata": {},
   "source": [
    "**Documentação**: https://scikit-learn.org/stable/modules/generated/sklearn.svm.SVC.html"
   ]
  },
  {
   "cell_type": "code",
   "execution_count": 7,
   "id": "09cdb85f",
   "metadata": {},
   "outputs": [],
   "source": [
    "# Improt da SVM\n",
    "from sklearn.svm import SVC"
   ]
  },
  {
   "cell_type": "code",
   "execution_count": 8,
   "id": "c8e44c64",
   "metadata": {},
   "outputs": [
    {
     "data": {
      "text/html": [
       "<style>#sk-container-id-1 {color: black;background-color: white;}#sk-container-id-1 pre{padding: 0;}#sk-container-id-1 div.sk-toggleable {background-color: white;}#sk-container-id-1 label.sk-toggleable__label {cursor: pointer;display: block;width: 100%;margin-bottom: 0;padding: 0.3em;box-sizing: border-box;text-align: center;}#sk-container-id-1 label.sk-toggleable__label-arrow:before {content: \"▸\";float: left;margin-right: 0.25em;color: #696969;}#sk-container-id-1 label.sk-toggleable__label-arrow:hover:before {color: black;}#sk-container-id-1 div.sk-estimator:hover label.sk-toggleable__label-arrow:before {color: black;}#sk-container-id-1 div.sk-toggleable__content {max-height: 0;max-width: 0;overflow: hidden;text-align: left;background-color: #f0f8ff;}#sk-container-id-1 div.sk-toggleable__content pre {margin: 0.2em;color: black;border-radius: 0.25em;background-color: #f0f8ff;}#sk-container-id-1 input.sk-toggleable__control:checked~div.sk-toggleable__content {max-height: 200px;max-width: 100%;overflow: auto;}#sk-container-id-1 input.sk-toggleable__control:checked~label.sk-toggleable__label-arrow:before {content: \"▾\";}#sk-container-id-1 div.sk-estimator input.sk-toggleable__control:checked~label.sk-toggleable__label {background-color: #d4ebff;}#sk-container-id-1 div.sk-label input.sk-toggleable__control:checked~label.sk-toggleable__label {background-color: #d4ebff;}#sk-container-id-1 input.sk-hidden--visually {border: 0;clip: rect(1px 1px 1px 1px);clip: rect(1px, 1px, 1px, 1px);height: 1px;margin: -1px;overflow: hidden;padding: 0;position: absolute;width: 1px;}#sk-container-id-1 div.sk-estimator {font-family: monospace;background-color: #f0f8ff;border: 1px dotted black;border-radius: 0.25em;box-sizing: border-box;margin-bottom: 0.5em;}#sk-container-id-1 div.sk-estimator:hover {background-color: #d4ebff;}#sk-container-id-1 div.sk-parallel-item::after {content: \"\";width: 100%;border-bottom: 1px solid gray;flex-grow: 1;}#sk-container-id-1 div.sk-label:hover label.sk-toggleable__label {background-color: #d4ebff;}#sk-container-id-1 div.sk-serial::before {content: \"\";position: absolute;border-left: 1px solid gray;box-sizing: border-box;top: 0;bottom: 0;left: 50%;z-index: 0;}#sk-container-id-1 div.sk-serial {display: flex;flex-direction: column;align-items: center;background-color: white;padding-right: 0.2em;padding-left: 0.2em;position: relative;}#sk-container-id-1 div.sk-item {position: relative;z-index: 1;}#sk-container-id-1 div.sk-parallel {display: flex;align-items: stretch;justify-content: center;background-color: white;position: relative;}#sk-container-id-1 div.sk-item::before, #sk-container-id-1 div.sk-parallel-item::before {content: \"\";position: absolute;border-left: 1px solid gray;box-sizing: border-box;top: 0;bottom: 0;left: 50%;z-index: -1;}#sk-container-id-1 div.sk-parallel-item {display: flex;flex-direction: column;z-index: 1;position: relative;background-color: white;}#sk-container-id-1 div.sk-parallel-item:first-child::after {align-self: flex-end;width: 50%;}#sk-container-id-1 div.sk-parallel-item:last-child::after {align-self: flex-start;width: 50%;}#sk-container-id-1 div.sk-parallel-item:only-child::after {width: 0;}#sk-container-id-1 div.sk-dashed-wrapped {border: 1px dashed gray;margin: 0 0.4em 0.5em 0.4em;box-sizing: border-box;padding-bottom: 0.4em;background-color: white;}#sk-container-id-1 div.sk-label label {font-family: monospace;font-weight: bold;display: inline-block;line-height: 1.2em;}#sk-container-id-1 div.sk-label-container {text-align: center;}#sk-container-id-1 div.sk-container {/* jupyter's `normalize.less` sets `[hidden] { display: none; }` but bootstrap.min.css set `[hidden] { display: none !important; }` so we also need the `!important` here to be able to override the default hidden behavior on the sphinx rendered scikit-learn.org. See: https://github.com/scikit-learn/scikit-learn/issues/21755 */display: inline-block !important;position: relative;}#sk-container-id-1 div.sk-text-repr-fallback {display: none;}</style><div id=\"sk-container-id-1\" class=\"sk-top-container\"><div class=\"sk-text-repr-fallback\"><pre>SVC(C=2, random_state=1)</pre><b>In a Jupyter environment, please rerun this cell to show the HTML representation or trust the notebook. <br />On GitHub, the HTML representation is unable to render, please try loading this page with nbviewer.org.</b></div><div class=\"sk-container\" hidden><div class=\"sk-item\"><div class=\"sk-estimator sk-toggleable\"><input class=\"sk-toggleable__control sk-hidden--visually\" id=\"sk-estimator-id-1\" type=\"checkbox\" checked><label for=\"sk-estimator-id-1\" class=\"sk-toggleable__label sk-toggleable__label-arrow\">SVC</label><div class=\"sk-toggleable__content\"><pre>SVC(C=2, random_state=1)</pre></div></div></div></div></div>"
      ],
      "text/plain": [
       "SVC(C=2, random_state=1)"
      ]
     },
     "execution_count": 8,
     "metadata": {},
     "output_type": "execute_result"
    }
   ],
   "source": [
    "# Renomeando o nome\n",
    "# Kernels = 'rbf', 'linear', 'poly', 'sigmoid'\n",
    "# Quanto maior o C maior o tempo computacional posso utiliza de 0 a 50 quanto maior mais chances de overfiting\n",
    "# random_state trabalha de 1 a 20\n",
    "\n",
    "\n",
    "svm = SVC(kernel='rbf', random_state=1, C = 2)\n",
    "svm.fit(x_treino, y_treino)"
   ]
  },
  {
   "cell_type": "code",
   "execution_count": 9,
   "id": "bac32969",
   "metadata": {},
   "outputs": [
    {
     "data": {
      "text/plain": [
       "array([1, 1, 0, 0, 1, 1, 0, 0, 1, 1, 0, 0, 0, 1, 1, 1, 0, 0, 0, 0, 1, 1,\n",
       "       0, 1, 1, 1, 1, 1, 0, 1, 0, 0, 0, 0, 1, 1, 1, 1, 1, 1, 0, 0, 1, 0,\n",
       "       1, 0, 0, 0, 1, 0, 0, 0, 0, 0, 0, 1, 1, 0, 1, 1, 1, 1, 0, 1, 0, 0,\n",
       "       1, 0, 0, 0, 0, 1, 1, 0, 1, 0, 1, 1, 1, 1, 0, 1, 1, 0, 1, 1, 1, 1,\n",
       "       1, 1, 0, 0, 1, 1, 0, 1, 1, 1, 1, 0], dtype=int64)"
      ]
     },
     "execution_count": 9,
     "metadata": {},
     "output_type": "execute_result"
    }
   ],
   "source": [
    "# Criando a variavel previsores\n",
    "previsoes_svm = svm.predict(x_test)\n",
    "previsoes_svm[:100]"
   ]
  },
  {
   "cell_type": "code",
   "execution_count": 10,
   "id": "3ca9efbc",
   "metadata": {},
   "outputs": [
    {
     "data": {
      "text/plain": [
       "array([1, 1, 0, 1, 0, 1, 0, 0, 1, 1, 0, 1, 1, 0, 1, 1, 0, 1, 0, 0, 1, 1,\n",
       "       0, 0, 1, 1, 1, 1, 1, 1, 0, 0, 0, 0, 0, 1, 1, 0, 0, 1, 0, 1, 1, 0,\n",
       "       0, 1, 0, 0, 1, 0, 0, 0, 0, 0, 0, 1, 1, 0, 1, 1, 1, 1, 0, 1, 1, 0,\n",
       "       1, 0, 1, 0, 1, 1, 1, 0, 1, 0, 1, 1, 1, 1, 0, 1, 1, 1, 1, 1, 1, 1,\n",
       "       1, 1, 0, 0, 1, 0, 0, 1, 1, 1, 0, 1], dtype=int64)"
      ]
     },
     "execution_count": 10,
     "metadata": {},
     "output_type": "execute_result"
    }
   ],
   "source": [
    "# Analise do y_test\n",
    "y_test[:100]"
   ]
  },
  {
   "cell_type": "code",
   "execution_count": 11,
   "id": "65df2fcc",
   "metadata": {},
   "outputs": [],
   "source": [
    "# Importando a biblioteca para analsie das metricas\n",
    "from sklearn.metrics import accuracy_score, confusion_matrix, classification_report"
   ]
  },
  {
   "cell_type": "code",
   "execution_count": 12,
   "id": "a32ad6e7",
   "metadata": {},
   "outputs": [
    {
     "name": "stdout",
     "output_type": "stream",
     "text": [
      "Acuracia: 86.59\n"
     ]
    }
   ],
   "source": [
    "print(f'Acuracia: {accuracy_score(y_test, previsoes_svm)*100:.2f}')"
   ]
  },
  {
   "cell_type": "code",
   "execution_count": 13,
   "id": "3c2d4c9c",
   "metadata": {},
   "outputs": [
    {
     "data": {
      "text/plain": [
       "array([[107,  17],\n",
       "       [ 20, 132]], dtype=int64)"
      ]
     },
     "execution_count": 13,
     "metadata": {},
     "output_type": "execute_result"
    }
   ],
   "source": [
    "# MAtriz de confusao\n",
    "confusion_matrix(y_test, previsoes_svm)"
   ]
  },
  {
   "cell_type": "code",
   "execution_count": 14,
   "id": "75de0aa4",
   "metadata": {},
   "outputs": [
    {
     "name": "stdout",
     "output_type": "stream",
     "text": [
      "              precision    recall  f1-score   support\n",
      "\n",
      "           0       0.84      0.86      0.85       124\n",
      "           1       0.89      0.87      0.88       152\n",
      "\n",
      "    accuracy                           0.87       276\n",
      "   macro avg       0.86      0.87      0.86       276\n",
      "weighted avg       0.87      0.87      0.87       276\n",
      "\n"
     ]
    }
   ],
   "source": [
    "# Imprimindo o resultado\n",
    "print(classification_report(y_test, previsoes_svm))"
   ]
  },
  {
   "cell_type": "markdown",
   "id": "21c7c1fd",
   "metadata": {},
   "source": [
    "**Analise dos dados de Treino**"
   ]
  },
  {
   "cell_type": "code",
   "execution_count": 15,
   "id": "a1daf2cf",
   "metadata": {},
   "outputs": [
    {
     "data": {
      "text/plain": [
       "array([1, 0, 0, 1, 0, 1, 1, 1, 0, 1, 0, 1, 0, 1, 0, 1, 0, 0, 1, 0, 0, 1,\n",
       "       1, 0, 1, 0, 1, 0, 0, 1, 0, 0, 1, 0, 1, 0, 0, 1, 0, 0, 1, 1, 1, 1,\n",
       "       1, 1, 0, 1, 0, 0, 1, 1, 0, 0, 1, 1, 1, 1, 1, 1, 1, 0, 1, 0, 0, 0,\n",
       "       1, 0, 0, 0, 0, 0, 0, 1, 1, 0, 1, 0, 0, 1, 1, 1, 0, 0, 0, 0, 1, 1,\n",
       "       1, 1, 1, 1, 0, 1, 1, 0, 0, 0, 0, 0], dtype=int64)"
      ]
     },
     "execution_count": 15,
     "metadata": {},
     "output_type": "execute_result"
    }
   ],
   "source": [
    "# Criando a variavel treino\n",
    "previsoes_treino = svm.predict(x_treino)\n",
    "previsoes_treino[:100]"
   ]
  },
  {
   "cell_type": "code",
   "execution_count": 16,
   "id": "2c7ae3e4",
   "metadata": {},
   "outputs": [
    {
     "data": {
      "text/plain": [
       "0.9204368174726989"
      ]
     },
     "execution_count": 16,
     "metadata": {},
     "output_type": "execute_result"
    }
   ],
   "source": [
    "# Accuracia\n",
    "accuracy_score(y_treino, previsoes_treino)"
   ]
  },
  {
   "cell_type": "code",
   "execution_count": 17,
   "id": "4ba61d80",
   "metadata": {},
   "outputs": [
    {
     "data": {
      "text/plain": [
       "array([[250,  36],\n",
       "       [ 15, 340]], dtype=int64)"
      ]
     },
     "execution_count": 17,
     "metadata": {},
     "output_type": "execute_result"
    }
   ],
   "source": [
    "# Matrix de confusao\n",
    "confusion_matrix(y_treino, previsoes_treino)"
   ]
  },
  {
   "cell_type": "code",
   "execution_count": 18,
   "id": "1ba82ae5",
   "metadata": {},
   "outputs": [
    {
     "name": "stdout",
     "output_type": "stream",
     "text": [
      "              precision    recall  f1-score   support\n",
      "\n",
      "           0       0.94      0.87      0.91       286\n",
      "           1       0.90      0.96      0.93       355\n",
      "\n",
      "    accuracy                           0.92       641\n",
      "   macro avg       0.92      0.92      0.92       641\n",
      "weighted avg       0.92      0.92      0.92       641\n",
      "\n"
     ]
    }
   ],
   "source": [
    "# Imprimindo o resultado\n",
    "print(classification_report(y_treino, previsoes_treino))"
   ]
  },
  {
   "cell_type": "code",
   "execution_count": null,
   "id": "9216e2db",
   "metadata": {},
   "outputs": [],
   "source": []
  },
  {
   "cell_type": "markdown",
   "id": "e020f724",
   "metadata": {},
   "source": [
    "### Validação Cruzada"
   ]
  },
  {
   "cell_type": "code",
   "execution_count": 19,
   "id": "3ac89c15",
   "metadata": {},
   "outputs": [],
   "source": [
    "from sklearn.model_selection import KFold\n",
    "from sklearn.model_selection import cross_val_score"
   ]
  },
  {
   "cell_type": "code",
   "execution_count": 20,
   "id": "3969ffb3",
   "metadata": {},
   "outputs": [],
   "source": [
    "# Separando os dados em folds\n",
    "kfold = KFold(n_splits=30, shuffle=True, random_state=5)"
   ]
  },
  {
   "cell_type": "code",
   "execution_count": 21,
   "id": "46c7bda8",
   "metadata": {},
   "outputs": [
    {
     "name": "stdout",
     "output_type": "stream",
     "text": [
      "Acuracia Media: 85.724\n"
     ]
    }
   ],
   "source": [
    "# Criando o Modelo\n",
    "modelo = SVC(kernel='rbf', random_state=1, C=2)\n",
    "resultado = cross_val_score(modelo, previsores3_esc, alvo, cv =kfold)\n",
    "\n",
    "# Utilizamos a Media e o desvio padrao\n",
    "print(f'Acuracia Media: {resultado.mean()*100:.3f}')"
   ]
  },
  {
   "cell_type": "code",
   "execution_count": null,
   "id": "362bd3a7",
   "metadata": {},
   "outputs": [],
   "source": []
  },
  {
   "cell_type": "markdown",
   "id": "51575a6e",
   "metadata": {},
   "source": [
    "# Altomoção do Algoritmo"
   ]
  },
  {
   "cell_type": "code",
   "execution_count": 22,
   "id": "541548d8",
   "metadata": {},
   "outputs": [
    {
     "name": "stdout",
     "output_type": "stream",
     "text": [
      "O Previsor Selecionado Foi: \u001b[33mPrevisores\u001b[0m\n",
      "[[40.   0.   1.  ...  0.   0.   0. ]\n",
      " [49.   1.   2.  ...  0.   1.   1. ]\n",
      " [37.   0.   1.  ...  0.   0.   0. ]\n",
      " ...\n",
      " [57.   0.   3.  ...  1.   1.2  1. ]\n",
      " [57.   1.   1.  ...  0.   0.   1. ]\n",
      " [38.   0.   2.  ...  0.   0.   0. ]]\n"
     ]
    }
   ],
   "source": [
    "# Lista dos Previsores\n",
    "from random import choice\n",
    "lista_previsores = [['Previsores',previsores], ['Previsores_Esc',previsores_esc], \n",
    "                    ['Previsores2', previsores2], ['Previsores3',previsores3], ['Previsores3_Esc',previsores3_esc]]\n",
    "previsor = choice(lista_previsores)\n",
    "print(f'O Previsor Selecionado Foi: \\33[33m{previsor[0]}\\33[0m')\n",
    "print(f'{previsor[1]}')"
   ]
  },
  {
   "cell_type": "code",
   "execution_count": 23,
   "id": "c8e35830",
   "metadata": {},
   "outputs": [
    {
     "data": {
      "text/html": [
       "<style>#sk-container-id-2 {color: black;background-color: white;}#sk-container-id-2 pre{padding: 0;}#sk-container-id-2 div.sk-toggleable {background-color: white;}#sk-container-id-2 label.sk-toggleable__label {cursor: pointer;display: block;width: 100%;margin-bottom: 0;padding: 0.3em;box-sizing: border-box;text-align: center;}#sk-container-id-2 label.sk-toggleable__label-arrow:before {content: \"▸\";float: left;margin-right: 0.25em;color: #696969;}#sk-container-id-2 label.sk-toggleable__label-arrow:hover:before {color: black;}#sk-container-id-2 div.sk-estimator:hover label.sk-toggleable__label-arrow:before {color: black;}#sk-container-id-2 div.sk-toggleable__content {max-height: 0;max-width: 0;overflow: hidden;text-align: left;background-color: #f0f8ff;}#sk-container-id-2 div.sk-toggleable__content pre {margin: 0.2em;color: black;border-radius: 0.25em;background-color: #f0f8ff;}#sk-container-id-2 input.sk-toggleable__control:checked~div.sk-toggleable__content {max-height: 200px;max-width: 100%;overflow: auto;}#sk-container-id-2 input.sk-toggleable__control:checked~label.sk-toggleable__label-arrow:before {content: \"▾\";}#sk-container-id-2 div.sk-estimator input.sk-toggleable__control:checked~label.sk-toggleable__label {background-color: #d4ebff;}#sk-container-id-2 div.sk-label input.sk-toggleable__control:checked~label.sk-toggleable__label {background-color: #d4ebff;}#sk-container-id-2 input.sk-hidden--visually {border: 0;clip: rect(1px 1px 1px 1px);clip: rect(1px, 1px, 1px, 1px);height: 1px;margin: -1px;overflow: hidden;padding: 0;position: absolute;width: 1px;}#sk-container-id-2 div.sk-estimator {font-family: monospace;background-color: #f0f8ff;border: 1px dotted black;border-radius: 0.25em;box-sizing: border-box;margin-bottom: 0.5em;}#sk-container-id-2 div.sk-estimator:hover {background-color: #d4ebff;}#sk-container-id-2 div.sk-parallel-item::after {content: \"\";width: 100%;border-bottom: 1px solid gray;flex-grow: 1;}#sk-container-id-2 div.sk-label:hover label.sk-toggleable__label {background-color: #d4ebff;}#sk-container-id-2 div.sk-serial::before {content: \"\";position: absolute;border-left: 1px solid gray;box-sizing: border-box;top: 0;bottom: 0;left: 50%;z-index: 0;}#sk-container-id-2 div.sk-serial {display: flex;flex-direction: column;align-items: center;background-color: white;padding-right: 0.2em;padding-left: 0.2em;position: relative;}#sk-container-id-2 div.sk-item {position: relative;z-index: 1;}#sk-container-id-2 div.sk-parallel {display: flex;align-items: stretch;justify-content: center;background-color: white;position: relative;}#sk-container-id-2 div.sk-item::before, #sk-container-id-2 div.sk-parallel-item::before {content: \"\";position: absolute;border-left: 1px solid gray;box-sizing: border-box;top: 0;bottom: 0;left: 50%;z-index: -1;}#sk-container-id-2 div.sk-parallel-item {display: flex;flex-direction: column;z-index: 1;position: relative;background-color: white;}#sk-container-id-2 div.sk-parallel-item:first-child::after {align-self: flex-end;width: 50%;}#sk-container-id-2 div.sk-parallel-item:last-child::after {align-self: flex-start;width: 50%;}#sk-container-id-2 div.sk-parallel-item:only-child::after {width: 0;}#sk-container-id-2 div.sk-dashed-wrapped {border: 1px dashed gray;margin: 0 0.4em 0.5em 0.4em;box-sizing: border-box;padding-bottom: 0.4em;background-color: white;}#sk-container-id-2 div.sk-label label {font-family: monospace;font-weight: bold;display: inline-block;line-height: 1.2em;}#sk-container-id-2 div.sk-label-container {text-align: center;}#sk-container-id-2 div.sk-container {/* jupyter's `normalize.less` sets `[hidden] { display: none; }` but bootstrap.min.css set `[hidden] { display: none !important; }` so we also need the `!important` here to be able to override the default hidden behavior on the sphinx rendered scikit-learn.org. See: https://github.com/scikit-learn/scikit-learn/issues/21755 */display: inline-block !important;position: relative;}#sk-container-id-2 div.sk-text-repr-fallback {display: none;}</style><div id=\"sk-container-id-2\" class=\"sk-top-container\"><div class=\"sk-text-repr-fallback\"><pre>SVC(C=6, kernel=&#x27;sigmoid&#x27;, random_state=20)</pre><b>In a Jupyter environment, please rerun this cell to show the HTML representation or trust the notebook. <br />On GitHub, the HTML representation is unable to render, please try loading this page with nbviewer.org.</b></div><div class=\"sk-container\" hidden><div class=\"sk-item\"><div class=\"sk-estimator sk-toggleable\"><input class=\"sk-toggleable__control sk-hidden--visually\" id=\"sk-estimator-id-2\" type=\"checkbox\" checked><label for=\"sk-estimator-id-2\" class=\"sk-toggleable__label sk-toggleable__label-arrow\">SVC</label><div class=\"sk-toggleable__content\"><pre>SVC(C=6, kernel=&#x27;sigmoid&#x27;, random_state=20)</pre></div></div></div></div></div>"
      ],
      "text/plain": [
       "SVC(C=6, kernel='sigmoid', random_state=20)"
      ]
     },
     "execution_count": 23,
     "metadata": {},
     "output_type": "execute_result"
    }
   ],
   "source": [
    "# Renomeando o nome\n",
    "# Kernels = 'rbf', 'linear', 'poly', 'sigmoid'\n",
    "# Quanto maior o C maior o tempo computacional posso utiliza de 0 a 50 quanto maior mais chances de overfiting\n",
    "# random_state trabalha de 1 a 20\n",
    "from random import randint\n",
    "\n",
    "lista = ['rbf', 'linear', 'poly', 'sigmoid']\n",
    "kernels = choice(lista)\n",
    "random_s = randint(1, 20)\n",
    "cs = randint(1, 10)\n",
    "\n",
    "svm = SVC(kernel=kernels, random_state=random_s, C = cs)\n",
    "svm.fit(x_treino, y_treino)"
   ]
  },
  {
   "cell_type": "code",
   "execution_count": 24,
   "id": "a92fe5cf",
   "metadata": {},
   "outputs": [
    {
     "data": {
      "text/plain": [
       "\"from random import choice, randint\\nacuracia_test   = 0\\nacuracia_treino = 0\\ncontador        = 0\\n\\n# Criando a variavel previsores\\nprevisoes_svm = svm.predict(x_test)\\n\\n\\nwhile True:\\n    previsor = choice(lista_previsores)\\n    x_treino, x_test, y_treino, y_test = train_test_split(previsor[1], alvo, test_size=0.3, random_state=10)\\n    svm = SVC(kernel='rbf', random_state=1, C = 2)\\n    svm.fit(x_treino, y_treino)\\n    print(f'Acuracia teste: {accuracy_score(y_test, previsoes_svm)*100:.3f}')\\n    # Imprimindo o resultado\\n    print(classification_report(y_test, previsoes_svm))\\n    \\n    # Criando a variavel treino\\n    previsoes_treino = svm.predict(x_treino)\\n    # Accuracia\\n    print(f'Acuracia Treino: {accuracy_score(y_treino, previsoes_treino)*100:.3f}')\\n    # Imprimindo o resultado\\n    print(classification_report(y_treino, previsoes_treino))\""
      ]
     },
     "execution_count": 24,
     "metadata": {},
     "output_type": "execute_result"
    }
   ],
   "source": [
    "'''from random import choice, randint\n",
    "acuracia_test   = 0\n",
    "acuracia_treino = 0\n",
    "contador        = 0\n",
    "\n",
    "# Criando a variavel previsores\n",
    "previsoes_svm = svm.predict(x_test)\n",
    "\n",
    "\n",
    "while True:\n",
    "    previsor = choice(lista_previsores)\n",
    "    x_treino, x_test, y_treino, y_test = train_test_split(previsor[1], alvo, test_size=0.3, random_state=10)\n",
    "    svm = SVC(kernel='rbf', random_state=1, C = 2)\n",
    "    svm.fit(x_treino, y_treino)\n",
    "    print(f'Acuracia teste: {accuracy_score(y_test, previsoes_svm)*100:.3f}')\n",
    "    # Imprimindo o resultado\n",
    "    print(classification_report(y_test, previsoes_svm))\n",
    "    \n",
    "    # Criando a variavel treino\n",
    "    previsoes_treino = svm.predict(x_treino)\n",
    "    # Accuracia\n",
    "    print(f'Acuracia Treino: {accuracy_score(y_treino, previsoes_treino)*100:.3f}')\n",
    "    # Imprimindo o resultado\n",
    "    print(classification_report(y_treino, previsoes_treino))'''\n",
    "    \n",
    "    "
   ]
  },
  {
   "cell_type": "code",
   "execution_count": null,
   "id": "4f72c5f8",
   "metadata": {},
   "outputs": [],
   "source": []
  },
  {
   "cell_type": "code",
   "execution_count": null,
   "id": "6d54287c",
   "metadata": {},
   "outputs": [],
   "source": []
  },
  {
   "cell_type": "code",
   "execution_count": null,
   "id": "d0d9a496",
   "metadata": {},
   "outputs": [],
   "source": []
  },
  {
   "cell_type": "code",
   "execution_count": null,
   "id": "8cfbe125",
   "metadata": {},
   "outputs": [],
   "source": []
  },
  {
   "cell_type": "code",
   "execution_count": null,
   "id": "b48df462",
   "metadata": {},
   "outputs": [],
   "source": []
  }
 ],
 "metadata": {
  "kernelspec": {
   "display_name": "Python 3 (ipykernel)",
   "language": "python",
   "name": "python3"
  },
  "language_info": {
   "codemirror_mode": {
    "name": "ipython",
    "version": 3
   },
   "file_extension": ".py",
   "mimetype": "text/x-python",
   "name": "python",
   "nbconvert_exporter": "python",
   "pygments_lexer": "ipython3",
   "version": "3.10.4"
  }
 },
 "nbformat": 4,
 "nbformat_minor": 5
}
