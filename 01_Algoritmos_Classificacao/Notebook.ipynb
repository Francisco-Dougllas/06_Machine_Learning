{
 "cells": [
  {
   "cell_type": "markdown",
   "id": "65aa2a06",
   "metadata": {},
   "source": [
    "### **Abrindo os arquivos criados no Pre-Processamento**"
   ]
  },
  {
   "cell_type": "code",
   "execution_count": 1,
   "id": "bac21ecb",
   "metadata": {},
   "outputs": [],
   "source": [
    "# Importando a Biblioteca\n",
    "import pickle"
   ]
  },
  {
   "cell_type": "code",
   "execution_count": 7,
   "id": "cf623a2c",
   "metadata": {},
   "outputs": [],
   "source": [
    "alvo           = pickle.load(open('heart.pkl',  'rb'))\n",
    "previsores     = pickle.load(open('heart2.pkl', 'rb'))\n",
    "previsores_esc = pickle.load(open('heart3.pkl', 'rb'))\n",
    "previsores2    = pickle.load(open('heart4.pkl', 'rb'))\n",
    "previsores3    = pickle.load(open('heart5.pkl', 'rb'))\n",
    "previsores3_esc= pickle.load(open('heart6.pkl', 'rb'))"
   ]
  },
  {
   "cell_type": "markdown",
   "id": "921607ba",
   "metadata": {},
   "source": [
    "# RESUMO DO PRE-PROCESSAMENTO\n",
    "\n",
    "**<font color='green'> alvo </font>** = variável que se pretende atingir (tem ou não doença cardíaca).\n",
    "\n",
    "**<font color='green'> Previsores </font>** = conjunto de variáveis previsoras com as variáveis categóricas transformadas em numéricas manualmente, sem escalonar.\n",
    "\n",
    "**<font color='green'> Previsores_esc </font>** = conjunto de variáveis previsoras com as variáveis categóricas transformadas em numéricas, escalonada.\n",
    "\n",
    "**<font color='green'> Previsores2 </font>** = conjunto de variáveis previsoras com as variáveis categóricas transformadas em numéricas pelo labelencoder.\n",
    "\n",
    "**<font color='green'> Previsores3 </font>** = conjunto de variáveis previsoras transformadas pelo labelencoder e onehotencoder, sem escalonar.\n",
    "\n",
    "**<font color='green'> Previsores3_esc </font>** = conjunto de variáveis previsoras transformadas pelo labelencoder e onehotencoder escalonada."
   ]
  },
  {
   "cell_type": "markdown",
   "id": "648ec9f9",
   "metadata": {},
   "source": [
    "## **BASE DE TREINO E TESTE**"
   ]
  },
  {
   "cell_type": "code",
   "execution_count": 8,
   "id": "c5ee51ce",
   "metadata": {},
   "outputs": [],
   "source": [
    "# Importando a biblioteca\n",
    "from sklearn.model_selection import train_test_split"
   ]
  },
  {
   "cell_type": "markdown",
   "id": "758f249a",
   "metadata": {},
   "source": [
    "**Parâmetros train_test_split:**   \n",
    "- **arrays:** nomes dos atributos previsores e alvo.   \n",
    "- **test_size:** tamanho em porcentagem dos dados de teste. default é none.   \n",
    "- **train_size:** tamanho em porcentagem dos dados de treinamento.default é none.  \n",
    "- **random_state:** nomeação de um estado aleatório.   \n",
    "- **shuffle:** embaralhamento dos dados aleatórios. Associado com o random_state ocorre o mesmo embaralhamento sempre. Default é True.  \n",
    "- **stratify:** Possibilidade de dividir os dados de forma estratificada. Default é None (nesse caso é mantido a proporção, isto é, se tem 30% de zeros e 70% de 1 no dataframe, na separação em treinamento e teste se manterá essa proporção)."
   ]
  },
  {
   "cell_type": "code",
   "execution_count": 9,
   "id": "d0b465e4",
   "metadata": {},
   "outputs": [],
   "source": [
    "# Separando teste e treino\n",
    "x_treino, x_test, y_treino, y_test = train_test_split(previsores3_esc, alvo, test_size = 0.3, random_state=10)"
   ]
  },
  {
   "cell_type": "code",
   "execution_count": 10,
   "id": "d7d8a095",
   "metadata": {},
   "outputs": [
    {
     "data": {
      "text/plain": [
       "((641, 20), (276, 20))"
      ]
     },
     "execution_count": 10,
     "metadata": {},
     "output_type": "execute_result"
    }
   ],
   "source": [
    "# Shape de x\n",
    "x_treino.shape, x_test.shape"
   ]
  },
  {
   "cell_type": "code",
   "execution_count": 11,
   "id": "a7adf818",
   "metadata": {},
   "outputs": [
    {
     "data": {
      "text/plain": [
       "((641,), (276,))"
      ]
     },
     "execution_count": 11,
     "metadata": {},
     "output_type": "execute_result"
    }
   ],
   "source": [
    "# Shape de y\n",
    "y_treino.shape, y_test.shape"
   ]
  },
  {
   "cell_type": "code",
   "execution_count": null,
   "id": "1b97c778",
   "metadata": {},
   "outputs": [],
   "source": []
  },
  {
   "cell_type": "code",
   "execution_count": null,
   "id": "630724d2",
   "metadata": {},
   "outputs": [],
   "source": []
  },
  {
   "cell_type": "code",
   "execution_count": null,
   "id": "09cdb85f",
   "metadata": {},
   "outputs": [],
   "source": []
  },
  {
   "cell_type": "code",
   "execution_count": null,
   "id": "c8e44c64",
   "metadata": {},
   "outputs": [],
   "source": []
  },
  {
   "cell_type": "code",
   "execution_count": null,
   "id": "bac32969",
   "metadata": {},
   "outputs": [],
   "source": []
  },
  {
   "cell_type": "code",
   "execution_count": null,
   "id": "d57ac3bd",
   "metadata": {},
   "outputs": [],
   "source": []
  },
  {
   "cell_type": "code",
   "execution_count": null,
   "id": "65df2fcc",
   "metadata": {},
   "outputs": [],
   "source": []
  },
  {
   "cell_type": "code",
   "execution_count": null,
   "id": "a32ad6e7",
   "metadata": {},
   "outputs": [],
   "source": []
  },
  {
   "cell_type": "code",
   "execution_count": null,
   "id": "3c2d4c9c",
   "metadata": {},
   "outputs": [],
   "source": []
  },
  {
   "cell_type": "code",
   "execution_count": null,
   "id": "75de0aa4",
   "metadata": {},
   "outputs": [],
   "source": []
  },
  {
   "cell_type": "code",
   "execution_count": null,
   "id": "da9a7be7",
   "metadata": {},
   "outputs": [],
   "source": []
  },
  {
   "cell_type": "code",
   "execution_count": null,
   "id": "a1daf2cf",
   "metadata": {},
   "outputs": [],
   "source": []
  },
  {
   "cell_type": "code",
   "execution_count": null,
   "id": "2c7ae3e4",
   "metadata": {},
   "outputs": [],
   "source": []
  },
  {
   "cell_type": "code",
   "execution_count": null,
   "id": "4ba61d80",
   "metadata": {},
   "outputs": [],
   "source": []
  },
  {
   "cell_type": "code",
   "execution_count": null,
   "id": "1ba82ae5",
   "metadata": {},
   "outputs": [],
   "source": []
  },
  {
   "cell_type": "code",
   "execution_count": null,
   "id": "d4f256b2",
   "metadata": {},
   "outputs": [],
   "source": []
  },
  {
   "cell_type": "code",
   "execution_count": null,
   "id": "c0f9455d",
   "metadata": {},
   "outputs": [],
   "source": []
  }
 ],
 "metadata": {
  "kernelspec": {
   "display_name": "Python 3 (ipykernel)",
   "language": "python",
   "name": "python3"
  },
  "language_info": {
   "codemirror_mode": {
    "name": "ipython",
    "version": 3
   },
   "file_extension": ".py",
   "mimetype": "text/x-python",
   "name": "python",
   "nbconvert_exporter": "python",
   "pygments_lexer": "ipython3",
   "version": "3.10.4"
  }
 },
 "nbformat": 4,
 "nbformat_minor": 5
}
