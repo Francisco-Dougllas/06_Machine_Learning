{
 "cells": [
  {
   "cell_type": "markdown",
   "id": "65aa2a06",
   "metadata": {},
   "source": [
    "### **Abrindo os arquivos criados no Pre-Processamento**"
   ]
  },
  {
   "cell_type": "code",
   "execution_count": 1,
   "id": "bac21ecb",
   "metadata": {},
   "outputs": [],
   "source": [
    "# Importando a Biblioteca\n",
    "import pickle"
   ]
  },
  {
   "cell_type": "code",
   "execution_count": 2,
   "id": "cf623a2c",
   "metadata": {},
   "outputs": [],
   "source": [
    "alvo           = pickle.load(open('heart.pkl',  'rb'))\n",
    "previsores     = pickle.load(open('heart2.pkl', 'rb'))\n",
    "previsores_esc = pickle.load(open('heart3.pkl', 'rb'))\n",
    "previsores2    = pickle.load(open('heart4.pkl', 'rb'))\n",
    "previsores3    = pickle.load(open('heart5.pkl', 'rb'))\n",
    "previsores3_esc= pickle.load(open('heart6.pkl', 'rb'))"
   ]
  },
  {
   "cell_type": "markdown",
   "id": "921607ba",
   "metadata": {},
   "source": [
    "# RESUMO DO PRE-PROCESSAMENTO\n",
    "\n",
    "**<font color='green'> alvo </font>**_____= variável que se pretende atingir (tem ou não doença cardíaca).\n",
    "\n",
    "**<font color='green'> Previsores </font>**____= conjunto de variáveis previsoras com as variáveis categóricas transformadas em numéricas manualmente, sem escalonar.\n",
    "\n",
    "**<font color='green'> Previsores_esc </font>**= conjunto de variáveis previsoras com as variáveis categóricas transformadas em numéricas, escalonada.\n",
    "\n",
    "**<font color='green'> Previsores2 </font>**___= conjunto de variáveis previsoras com as variáveis categóricas transformadas em numéricas pelo labelencoder.\n",
    "\n",
    "**<font color='green'> Previsores3 </font>**___= conjunto de variáveis previsoras transformadas pelo labelencoder e onehotencoder, sem escalonar.\n",
    "\n",
    "**<font color='green'> Previsores3_esc </font>** = conjunto de variáveis previsoras transformadas pelo labelencoder e onehotencoder escalonada."
   ]
  },
  {
   "cell_type": "markdown",
   "id": "648ec9f9",
   "metadata": {},
   "source": [
    "## **BASE DE TREINO E TESTE**"
   ]
  },
  {
   "cell_type": "code",
   "execution_count": 3,
   "id": "c5ee51ce",
   "metadata": {},
   "outputs": [],
   "source": [
    "# Importando a biblioteca\n",
    "from sklearn.model_selection import train_test_split"
   ]
  },
  {
   "cell_type": "markdown",
   "id": "758f249a",
   "metadata": {},
   "source": [
    "**Parâmetros train_test_split:**   \n",
    "- **arrays:** nomes dos atributos previsores e alvo.   \n",
    "- **test_size:** tamanho em porcentagem dos dados de teste. default é none.   \n",
    "- **train_size:** tamanho em porcentagem dos dados de treinamento.default é none.  \n",
    "- **random_state:** nomeação de um estado aleatório.   \n",
    "- **shuffle:** embaralhamento dos dados aleatórios. Associado com o random_state ocorre o mesmo embaralhamento sempre. Default é True.  \n",
    "- **stratify:** Possibilidade de dividir os dados de forma estratificada. Default é None (nesse caso é mantido a proporção, isto é, se tem 30% de zeros e 70% de 1 no dataframe, na separação em treinamento e teste se manterá essa proporção)."
   ]
  },
  {
   "cell_type": "code",
   "execution_count": 4,
   "id": "d0b465e4",
   "metadata": {},
   "outputs": [],
   "source": [
    "# Separando teste e treino\n",
    "x_treino, x_test, y_treino, y_test = train_test_split(previsores3, alvo, test_size = 0.3, random_state=10)"
   ]
  },
  {
   "cell_type": "code",
   "execution_count": 5,
   "id": "d7d8a095",
   "metadata": {},
   "outputs": [
    {
     "data": {
      "text/plain": [
       "((641, 20), (276, 20))"
      ]
     },
     "execution_count": 5,
     "metadata": {},
     "output_type": "execute_result"
    }
   ],
   "source": [
    "# Shape de x\n",
    "x_treino.shape, x_test.shape"
   ]
  },
  {
   "cell_type": "code",
   "execution_count": 6,
   "id": "a7adf818",
   "metadata": {},
   "outputs": [
    {
     "data": {
      "text/plain": [
       "((641,), (276,))"
      ]
     },
     "execution_count": 6,
     "metadata": {},
     "output_type": "execute_result"
    }
   ],
   "source": [
    "# Shape de y\n",
    "y_treino.shape, y_test.shape"
   ]
  },
  {
   "cell_type": "markdown",
   "id": "110ddff7",
   "metadata": {},
   "source": [
    "# **NAIVE BAYES**"
   ]
  },
  {
   "cell_type": "markdown",
   "id": "46fa49bb",
   "metadata": {},
   "source": [
    "**Documentação**: https://scikit-learn.org/stable/modules/naive_bayes.html"
   ]
  },
  {
   "cell_type": "markdown",
   "id": "dccf0b95",
   "metadata": {},
   "source": [
    "**Treinamento do algoritmo**"
   ]
  },
  {
   "cell_type": "code",
   "execution_count": 7,
   "id": "630724d2",
   "metadata": {},
   "outputs": [],
   "source": [
    "# Importando a Biblioteca\n",
    "from sklearn.naive_bayes import GaussianNB"
   ]
  },
  {
   "cell_type": "code",
   "execution_count": 8,
   "id": "09cdb85f",
   "metadata": {},
   "outputs": [
    {
     "data": {
      "text/html": [
       "<style>#sk-container-id-1 {color: black;background-color: white;}#sk-container-id-1 pre{padding: 0;}#sk-container-id-1 div.sk-toggleable {background-color: white;}#sk-container-id-1 label.sk-toggleable__label {cursor: pointer;display: block;width: 100%;margin-bottom: 0;padding: 0.3em;box-sizing: border-box;text-align: center;}#sk-container-id-1 label.sk-toggleable__label-arrow:before {content: \"▸\";float: left;margin-right: 0.25em;color: #696969;}#sk-container-id-1 label.sk-toggleable__label-arrow:hover:before {color: black;}#sk-container-id-1 div.sk-estimator:hover label.sk-toggleable__label-arrow:before {color: black;}#sk-container-id-1 div.sk-toggleable__content {max-height: 0;max-width: 0;overflow: hidden;text-align: left;background-color: #f0f8ff;}#sk-container-id-1 div.sk-toggleable__content pre {margin: 0.2em;color: black;border-radius: 0.25em;background-color: #f0f8ff;}#sk-container-id-1 input.sk-toggleable__control:checked~div.sk-toggleable__content {max-height: 200px;max-width: 100%;overflow: auto;}#sk-container-id-1 input.sk-toggleable__control:checked~label.sk-toggleable__label-arrow:before {content: \"▾\";}#sk-container-id-1 div.sk-estimator input.sk-toggleable__control:checked~label.sk-toggleable__label {background-color: #d4ebff;}#sk-container-id-1 div.sk-label input.sk-toggleable__control:checked~label.sk-toggleable__label {background-color: #d4ebff;}#sk-container-id-1 input.sk-hidden--visually {border: 0;clip: rect(1px 1px 1px 1px);clip: rect(1px, 1px, 1px, 1px);height: 1px;margin: -1px;overflow: hidden;padding: 0;position: absolute;width: 1px;}#sk-container-id-1 div.sk-estimator {font-family: monospace;background-color: #f0f8ff;border: 1px dotted black;border-radius: 0.25em;box-sizing: border-box;margin-bottom: 0.5em;}#sk-container-id-1 div.sk-estimator:hover {background-color: #d4ebff;}#sk-container-id-1 div.sk-parallel-item::after {content: \"\";width: 100%;border-bottom: 1px solid gray;flex-grow: 1;}#sk-container-id-1 div.sk-label:hover label.sk-toggleable__label {background-color: #d4ebff;}#sk-container-id-1 div.sk-serial::before {content: \"\";position: absolute;border-left: 1px solid gray;box-sizing: border-box;top: 0;bottom: 0;left: 50%;z-index: 0;}#sk-container-id-1 div.sk-serial {display: flex;flex-direction: column;align-items: center;background-color: white;padding-right: 0.2em;padding-left: 0.2em;position: relative;}#sk-container-id-1 div.sk-item {position: relative;z-index: 1;}#sk-container-id-1 div.sk-parallel {display: flex;align-items: stretch;justify-content: center;background-color: white;position: relative;}#sk-container-id-1 div.sk-item::before, #sk-container-id-1 div.sk-parallel-item::before {content: \"\";position: absolute;border-left: 1px solid gray;box-sizing: border-box;top: 0;bottom: 0;left: 50%;z-index: -1;}#sk-container-id-1 div.sk-parallel-item {display: flex;flex-direction: column;z-index: 1;position: relative;background-color: white;}#sk-container-id-1 div.sk-parallel-item:first-child::after {align-self: flex-end;width: 50%;}#sk-container-id-1 div.sk-parallel-item:last-child::after {align-self: flex-start;width: 50%;}#sk-container-id-1 div.sk-parallel-item:only-child::after {width: 0;}#sk-container-id-1 div.sk-dashed-wrapped {border: 1px dashed gray;margin: 0 0.4em 0.5em 0.4em;box-sizing: border-box;padding-bottom: 0.4em;background-color: white;}#sk-container-id-1 div.sk-label label {font-family: monospace;font-weight: bold;display: inline-block;line-height: 1.2em;}#sk-container-id-1 div.sk-label-container {text-align: center;}#sk-container-id-1 div.sk-container {/* jupyter's `normalize.less` sets `[hidden] { display: none; }` but bootstrap.min.css set `[hidden] { display: none !important; }` so we also need the `!important` here to be able to override the default hidden behavior on the sphinx rendered scikit-learn.org. See: https://github.com/scikit-learn/scikit-learn/issues/21755 */display: inline-block !important;position: relative;}#sk-container-id-1 div.sk-text-repr-fallback {display: none;}</style><div id=\"sk-container-id-1\" class=\"sk-top-container\"><div class=\"sk-text-repr-fallback\"><pre>GaussianNB()</pre><b>In a Jupyter environment, please rerun this cell to show the HTML representation or trust the notebook. <br />On GitHub, the HTML representation is unable to render, please try loading this page with nbviewer.org.</b></div><div class=\"sk-container\" hidden><div class=\"sk-item\"><div class=\"sk-estimator sk-toggleable\"><input class=\"sk-toggleable__control sk-hidden--visually\" id=\"sk-estimator-id-1\" type=\"checkbox\" checked><label for=\"sk-estimator-id-1\" class=\"sk-toggleable__label sk-toggleable__label-arrow\">GaussianNB</label><div class=\"sk-toggleable__content\"><pre>GaussianNB()</pre></div></div></div></div></div>"
      ],
      "text/plain": [
       "GaussianNB()"
      ]
     },
     "execution_count": 8,
     "metadata": {},
     "output_type": "execute_result"
    }
   ],
   "source": [
    "# Nomeando a biblioteca\n",
    "naive = GaussianNB()\n",
    "naive.fit(x_treino, y_treino)"
   ]
  },
  {
   "cell_type": "markdown",
   "id": "b5602d7f",
   "metadata": {},
   "source": [
    "**Avaliação do algoritmo**"
   ]
  },
  {
   "cell_type": "code",
   "execution_count": 9,
   "id": "bac32969",
   "metadata": {},
   "outputs": [
    {
     "data": {
      "text/plain": [
       "array([1, 1, 0, 1, 0, 1, 0, 0, 1, 1, 0, 0, 1, 1, 1, 1, 0, 0, 0, 0, 1, 1,\n",
       "       0, 1, 1, 1, 1, 1, 0, 1, 0, 0, 0, 0, 1, 1, 1, 0, 1, 1, 0, 0, 1, 0,\n",
       "       0, 0, 0, 0, 0, 0, 0, 0, 0, 0, 0, 1, 1, 0, 0, 1, 1, 1, 0, 1, 0, 0,\n",
       "       1, 0, 0, 0, 0, 1, 1, 0, 1, 0, 1, 1, 1, 0, 0, 1, 1, 0, 1, 1, 1, 1,\n",
       "       1, 1, 0, 0, 1, 1, 1, 1, 1, 1, 1, 0], dtype=int64)"
      ]
     },
     "execution_count": 9,
     "metadata": {},
     "output_type": "execute_result"
    }
   ],
   "source": [
    "# Criando a variavel previsores naive\n",
    "previsores_naive = naive.predict(x_test)\n",
    "previsores_naive[:100]"
   ]
  },
  {
   "cell_type": "code",
   "execution_count": 10,
   "id": "d57ac3bd",
   "metadata": {},
   "outputs": [
    {
     "data": {
      "text/plain": [
       "array([1, 1, 0, 1, 0, 1, 0, 0, 1, 1, 0, 1, 1, 0, 1, 1, 0, 1, 0, 0, 1, 1,\n",
       "       0, 0, 1, 1, 1, 1, 1, 1, 0, 0, 0, 0, 0, 1, 1, 0, 0, 1, 0, 1, 1, 0,\n",
       "       0, 1, 0, 0, 1, 0, 0, 0, 0, 0, 0, 1, 1, 0, 1, 1, 1, 1, 0, 1, 1, 0,\n",
       "       1, 0, 1, 0, 1, 1, 1, 0, 1, 0, 1, 1, 1, 1, 0, 1, 1, 1, 1, 1, 1, 1,\n",
       "       1, 1, 0, 0, 1, 0, 0, 1, 1, 1, 0, 1], dtype=int64)"
      ]
     },
     "execution_count": 10,
     "metadata": {},
     "output_type": "execute_result"
    }
   ],
   "source": [
    "# Visualizando o y_test\n",
    "y_test[:100]"
   ]
  },
  {
   "cell_type": "code",
   "execution_count": 11,
   "id": "65df2fcc",
   "metadata": {},
   "outputs": [],
   "source": [
    "# Importando a biblioteca de Acuracia\n",
    "from sklearn.metrics import accuracy_score, confusion_matrix, classification_report"
   ]
  },
  {
   "cell_type": "code",
   "execution_count": 12,
   "id": "a32ad6e7",
   "metadata": {},
   "outputs": [
    {
     "data": {
      "text/plain": [
       "0.8478260869565217"
      ]
     },
     "execution_count": 12,
     "metadata": {},
     "output_type": "execute_result"
    }
   ],
   "source": [
    "# Analisando a Accuracia\n",
    "accuracy_score(y_test, previsores_naive)"
   ]
  },
  {
   "cell_type": "code",
   "execution_count": 13,
   "id": "3c2d4c9c",
   "metadata": {},
   "outputs": [
    {
     "name": "stdout",
     "output_type": "stream",
     "text": [
      "Acurácia: 84.78260869565217\n"
     ]
    }
   ],
   "source": [
    "# Imprimindo o Resultado\n",
    "print(f'Acurácia: {accuracy_score(y_test, previsores_naive)*100}')"
   ]
  },
  {
   "cell_type": "code",
   "execution_count": 14,
   "id": "75de0aa4",
   "metadata": {},
   "outputs": [
    {
     "data": {
      "text/plain": [
       "array([[108,  16],\n",
       "       [ 26, 126]], dtype=int64)"
      ]
     },
     "execution_count": 14,
     "metadata": {},
     "output_type": "execute_result"
    }
   ],
   "source": [
    "# Verificando a Matrix de confusao, qual a performance em relacao ao teste\n",
    "confusion_matrix(y_test, previsores_naive)"
   ]
  },
  {
   "cell_type": "code",
   "execution_count": 15,
   "id": "da9a7be7",
   "metadata": {},
   "outputs": [
    {
     "name": "stdout",
     "output_type": "stream",
     "text": [
      "              precision    recall  f1-score   support\n",
      "\n",
      "           0       0.81      0.87      0.84       124\n",
      "           1       0.89      0.83      0.86       152\n",
      "\n",
      "    accuracy                           0.85       276\n",
      "   macro avg       0.85      0.85      0.85       276\n",
      "weighted avg       0.85      0.85      0.85       276\n",
      "\n"
     ]
    }
   ],
   "source": [
    "# Imprimindo o Resultado\n",
    "print(f'{classification_report(y_test, previsores_naive)}')"
   ]
  },
  {
   "cell_type": "markdown",
   "id": "ae5a430d",
   "metadata": {},
   "source": [
    "**Análise dados de treino**"
   ]
  },
  {
   "cell_type": "code",
   "execution_count": 16,
   "id": "2c7ae3e4",
   "metadata": {},
   "outputs": [
    {
     "data": {
      "text/plain": [
       "array([0, 0, 0, 1, 0, 1, 1, 0, 0, 1, 0, 1, 0, 1, 0, 1, 0, 0, 1, 0, 0, 1,\n",
       "       1, 1, 1, 0, 1, 0, 0, 1, 0, 0, 1, 0, 1, 0, 0, 0, 0, 0, 1, 1, 1, 1,\n",
       "       1, 1, 0, 1, 0, 0, 1, 1, 0, 0, 1, 1, 1, 1, 1, 1, 1, 0, 1, 0, 0, 0,\n",
       "       1, 0, 0, 0, 0, 0, 0, 1, 1, 0, 1, 0, 0, 0, 1, 1, 0, 1, 0, 0, 1, 1,\n",
       "       1, 1, 1, 1, 0, 1, 1, 0, 0, 0, 0, 0], dtype=int64)"
      ]
     },
     "execution_count": 16,
     "metadata": {},
     "output_type": "execute_result"
    }
   ],
   "source": [
    "# Criando a variavel de treino\n",
    "previsoes_treino = naive.predict(x_treino)\n",
    "previsoes_treino[:100]"
   ]
  },
  {
   "cell_type": "code",
   "execution_count": 17,
   "id": "4ba61d80",
   "metadata": {},
   "outputs": [
    {
     "data": {
      "text/plain": [
       "0.8502340093603744"
      ]
     },
     "execution_count": 17,
     "metadata": {},
     "output_type": "execute_result"
    }
   ],
   "source": [
    "# Acuracia\n",
    "accuracy_score(y_treino, previsoes_treino)"
   ]
  },
  {
   "cell_type": "code",
   "execution_count": 18,
   "id": "526519a8",
   "metadata": {},
   "outputs": [
    {
     "data": {
      "text/plain": [
       "array([[241,  45],\n",
       "       [ 51, 304]], dtype=int64)"
      ]
     },
     "execution_count": 18,
     "metadata": {},
     "output_type": "execute_result"
    }
   ],
   "source": [
    "# Matrix de confusao\n",
    "confusion_matrix(y_treino, previsoes_treino)"
   ]
  },
  {
   "cell_type": "code",
   "execution_count": 19,
   "id": "9a651baf",
   "metadata": {},
   "outputs": [
    {
     "name": "stdout",
     "output_type": "stream",
     "text": [
      "              precision    recall  f1-score   support\n",
      "\n",
      "           0       0.83      0.84      0.83       286\n",
      "           1       0.87      0.86      0.86       355\n",
      "\n",
      "    accuracy                           0.85       641\n",
      "   macro avg       0.85      0.85      0.85       641\n",
      "weighted avg       0.85      0.85      0.85       641\n",
      "\n"
     ]
    }
   ],
   "source": [
    "# Imprimindo o Resultado\n",
    "print(f'{classification_report(y_treino, previsoes_treino)}')"
   ]
  },
  {
   "cell_type": "markdown",
   "id": "adcc2acf",
   "metadata": {},
   "source": [
    "### **Validação Cruzada**"
   ]
  },
  {
   "cell_type": "code",
   "execution_count": 20,
   "id": "6931f8f5",
   "metadata": {},
   "outputs": [],
   "source": [
    "# Importando as Bibliotecas\n",
    "from sklearn.model_selection import KFold\n",
    "from sklearn.model_selection import cross_val_score"
   ]
  },
  {
   "cell_type": "code",
   "execution_count": 21,
   "id": "b0f01327",
   "metadata": {},
   "outputs": [
    {
     "data": {
      "text/plain": [
       "KFold(n_splits=30, random_state=5, shuffle=True)"
      ]
     },
     "execution_count": 21,
     "metadata": {},
     "output_type": "execute_result"
    }
   ],
   "source": [
    "# Separando os dados em folds\n",
    "kfold = KFold(n_splits = 30, shuffle=True, random_state=5)\n",
    "kfold"
   ]
  },
  {
   "cell_type": "code",
   "execution_count": 22,
   "id": "84ef236e",
   "metadata": {},
   "outputs": [
    {
     "name": "stdout",
     "output_type": "stream",
     "text": [
      "Acuracia Média: 85.17%\n"
     ]
    }
   ],
   "source": [
    "# Criando o modelo\n",
    "modelo = GaussianNB()\n",
    "resultado = cross_val_score(modelo, previsores3_esc, alvo, cv=kfold)\n",
    "\n",
    "# Utilizamos a media e o desvio padrão\n",
    "print(f'Acuracia Média: {resultado.mean()*100:.2f}%')"
   ]
  },
  {
   "cell_type": "markdown",
   "id": "33289179",
   "metadata": {},
   "source": [
    "**Naive Bayes** = 84,78% (treino e teste) - 234 acertos e 85,17% (validação cruzada) - previsores3_esc"
   ]
  },
  {
   "cell_type": "code",
   "execution_count": null,
   "id": "eafc9d97",
   "metadata": {},
   "outputs": [],
   "source": []
  },
  {
   "cell_type": "code",
   "execution_count": null,
   "id": "995685fa",
   "metadata": {},
   "outputs": [],
   "source": []
  },
  {
   "cell_type": "markdown",
   "id": "cca6c3fd",
   "metadata": {},
   "source": [
    "# Altomoção do Algoritmo"
   ]
  },
  {
   "cell_type": "code",
   "execution_count": 23,
   "id": "5db6dcc8",
   "metadata": {},
   "outputs": [
    {
     "name": "stdout",
     "output_type": "stream",
     "text": [
      "O Previsor Selecionado Foi: \u001b[33mPrevisores_Esc\u001b[0m\n",
      "[[-1.43220634 -0.51630861 -1.34470119 ... -0.82431012 -0.83150225\n",
      "  -1.05109458]\n",
      " [-0.47805725  1.9368261  -0.27058012 ... -0.82431012  0.10625149\n",
      "   0.59651863]\n",
      " [-1.75025603 -0.51630861 -1.34470119 ... -0.82431012 -0.83150225\n",
      "  -1.05109458]\n",
      " ...\n",
      " [ 0.37007527 -0.51630861  0.80354095 ...  1.21313565  0.29380223\n",
      "   0.59651863]\n",
      " [ 0.37007527  1.9368261  -1.34470119 ... -0.82431012 -0.83150225\n",
      "   0.59651863]\n",
      " [-1.64423947 -0.51630861 -0.27058012 ... -0.82431012 -0.83150225\n",
      "  -1.05109458]]\n"
     ]
    }
   ],
   "source": [
    "# Lista dos Previsores\n",
    "from random import choice\n",
    "lista_previsores = [['Previsores',previsores], ['Previsores_Esc',previsores_esc], \n",
    "                    ['Previsores2', previsores2], ['Previsores3',previsores3], ['Previsores3_Esc',previsores3_esc]]\n",
    "previsor = choice(lista_previsores)\n",
    "print(f'O Previsor Selecionado Foi: \\33[33m{previsor[0]}\\33[0m')\n",
    "print(f'{previsor[1]}')"
   ]
  },
  {
   "cell_type": "code",
   "execution_count": 24,
   "id": "0f467e0a",
   "metadata": {},
   "outputs": [
    {
     "name": "stdout",
     "output_type": "stream",
     "text": [
      "Ao todo Foi feito: 1 testes\n",
      "Previsor Selecionado: Previsores3_Esc\n",
      "\n",
      "Acuracia Test: 84.783\n",
      "Resultado Test:\n",
      "               precision    recall  f1-score   support\n",
      "\n",
      "           0       0.81      0.87      0.84       124\n",
      "           1       0.89      0.83      0.86       152\n",
      "\n",
      "    accuracy                           0.85       276\n",
      "   macro avg       0.85      0.85      0.85       276\n",
      "weighted avg       0.85      0.85      0.85       276\n",
      "\n",
      "-=-=-=-=-=-=-=-=-=-=-=-=-=-=-=-=-=-=-=-=-=-=-=-=-=-=-=-=-=-=\n",
      "Acuracia Treino: 85.02340093603745\n",
      "Resultado Treino:\n",
      "               precision    recall  f1-score   support\n",
      "\n",
      "           0       0.83      0.84      0.83       286\n",
      "           1       0.87      0.86      0.86       355\n",
      "\n",
      "    accuracy                           0.85       641\n",
      "   macro avg       0.85      0.85      0.85       641\n",
      "weighted avg       0.85      0.85      0.85       641\n",
      "\n",
      "\n",
      "VALIDAÇÃO CRUZADA\n",
      "Acuracia Media: 85.17%\n"
     ]
    }
   ],
   "source": [
    "contador = 0\n",
    "from random import choice\n",
    "acuracia_test = 0\n",
    "acuracia_treino = 0\n",
    "\n",
    "\n",
    "while True:\n",
    "    previsor = choice(lista_previsores)\n",
    "    x_treino, x_test, y_treino, y_test = train_test_split(previsor[1], alvo, test_size=0.3, random_state=10)\n",
    "    # Nomeando a Biblioteca\n",
    "    naive = GaussianNB()\n",
    "    naive.fit(x_treino, y_treino)\n",
    "    \n",
    "    # Criando a Variavel previsores naive\n",
    "    previsores_naive = naive.predict(x_test)\n",
    "    # Analisando a Acuracia\n",
    "    acuracia_test = accuracy_score(y_test, previsores_naive) * 100\n",
    "    \n",
    "    # Analise dados de Treino\n",
    "    previsores_treino = naive.predict(x_treino)\n",
    "    # Acuracia Treino\n",
    "    acuracia_treino = accuracy_score(y_treino, previsores_treino) * 100\n",
    "    \n",
    "    # VALIDAÇÃO CRUZADA\n",
    "    # Separando os dados em folds\n",
    "    kfold = KFold(n_splits = 30, shuffle=True, random_state=5)\n",
    "    modelo = GaussianNB()\n",
    "    resultado = cross_val_score(modelo, previsor[1], alvo, cv=kfold)\n",
    "    contador += 1\n",
    "    \n",
    "    if acuracia_treino >= 85 and acuracia_test > 80:\n",
    "        print(f'Ao todo Foi feito: {contador} testes')\n",
    "        print(f'Previsor Selecionado: {previsor[0]}')\n",
    "        print('')\n",
    "        print(f'Acuracia Test: {acuracia_test:.3f}')\n",
    "        print(f'Resultado Test:\\n {classification_report(y_test, previsores_naive)}')\n",
    "        print('-='*30)\n",
    "        print(f'Acuracia Treino: {acuracia_treino}')\n",
    "        print(f'Resultado Treino:\\n {classification_report(y_treino, previsores_treino)}')\n",
    "        print('')\n",
    "        print('VALIDAÇÃO CRUZADA')\n",
    "        print(f'Acuracia Media: {resultado.mean()*100:.2f}%')\n",
    "        break"
   ]
  },
  {
   "cell_type": "code",
   "execution_count": null,
   "id": "6727f694",
   "metadata": {},
   "outputs": [],
   "source": []
  },
  {
   "cell_type": "code",
   "execution_count": null,
   "id": "b8162a07",
   "metadata": {},
   "outputs": [],
   "source": []
  },
  {
   "cell_type": "code",
   "execution_count": null,
   "id": "ac5d1f48",
   "metadata": {},
   "outputs": [],
   "source": []
  }
 ],
 "metadata": {
  "kernelspec": {
   "display_name": "Python 3 (ipykernel)",
   "language": "python",
   "name": "python3"
  },
  "language_info": {
   "codemirror_mode": {
    "name": "ipython",
    "version": 3
   },
   "file_extension": ".py",
   "mimetype": "text/x-python",
   "name": "python",
   "nbconvert_exporter": "python",
   "pygments_lexer": "ipython3",
   "version": "3.10.4"
  }
 },
 "nbformat": 4,
 "nbformat_minor": 5
}
